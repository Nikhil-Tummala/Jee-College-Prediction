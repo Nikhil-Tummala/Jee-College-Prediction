{
 "cells": [
  {
   "cell_type": "code",
   "execution_count": 1,
   "id": "3fba08d1",
   "metadata": {},
   "outputs": [],
   "source": [
    "import pandas as pd\n",
    "import matplotlib.pyplot as plt\n",
    "import numpy as np"
   ]
  },
  {
   "cell_type": "code",
   "execution_count": 34,
   "id": "399b61cd",
   "metadata": {},
   "outputs": [],
   "source": [
    "from tensorflow.keras.models import Sequential\n",
    "from tensorflow.keras.layers import Dense,LSTM"
   ]
  },
  {
   "cell_type": "code",
   "execution_count": 2,
   "id": "bb01ede8",
   "metadata": {},
   "outputs": [],
   "source": [
    "data=pd.read_csv(\"rvnl.csv\")"
   ]
  },
  {
   "cell_type": "code",
   "execution_count": 3,
   "id": "a0aad192",
   "metadata": {},
   "outputs": [
    {
     "name": "stdout",
     "output_type": "stream",
     "text": [
      "<class 'pandas.core.frame.DataFrame'>\n",
      "RangeIndex: 1105 entries, 0 to 1104\n",
      "Data columns (total 7 columns):\n",
      " #   Column    Non-Null Count  Dtype  \n",
      "---  ------    --------------  -----  \n",
      " 0   Date      1105 non-null   object \n",
      " 1   Price     1105 non-null   float64\n",
      " 2   Open      1105 non-null   float64\n",
      " 3   High      1105 non-null   float64\n",
      " 4   Low       1105 non-null   float64\n",
      " 5   Vol.      1104 non-null   object \n",
      " 6   Change %  1105 non-null   object \n",
      "dtypes: float64(4), object(3)\n",
      "memory usage: 60.6+ KB\n"
     ]
    }
   ],
   "source": [
    "data.info()"
   ]
  },
  {
   "cell_type": "code",
   "execution_count": 4,
   "id": "a6149b15",
   "metadata": {},
   "outputs": [],
   "source": [
    "data=data.iloc[::-1]"
   ]
  },
  {
   "cell_type": "code",
   "execution_count": 5,
   "id": "123c22ac",
   "metadata": {},
   "outputs": [
    {
     "data": {
      "text/html": [
       "<div>\n",
       "<style scoped>\n",
       "    .dataframe tbody tr th:only-of-type {\n",
       "        vertical-align: middle;\n",
       "    }\n",
       "\n",
       "    .dataframe tbody tr th {\n",
       "        vertical-align: top;\n",
       "    }\n",
       "\n",
       "    .dataframe thead th {\n",
       "        text-align: right;\n",
       "    }\n",
       "</style>\n",
       "<table border=\"1\" class=\"dataframe\">\n",
       "  <thead>\n",
       "    <tr style=\"text-align: right;\">\n",
       "      <th></th>\n",
       "      <th>Date</th>\n",
       "      <th>Price</th>\n",
       "      <th>Open</th>\n",
       "      <th>High</th>\n",
       "      <th>Low</th>\n",
       "      <th>Vol.</th>\n",
       "      <th>Change %</th>\n",
       "    </tr>\n",
       "  </thead>\n",
       "  <tbody>\n",
       "    <tr>\n",
       "      <th>1104</th>\n",
       "      <td>01-01-2020</td>\n",
       "      <td>23.00</td>\n",
       "      <td>23.05</td>\n",
       "      <td>23.30</td>\n",
       "      <td>22.95</td>\n",
       "      <td>3.13M</td>\n",
       "      <td>0.22%</td>\n",
       "    </tr>\n",
       "    <tr>\n",
       "      <th>1103</th>\n",
       "      <td>02-01-2020</td>\n",
       "      <td>23.75</td>\n",
       "      <td>23.05</td>\n",
       "      <td>23.90</td>\n",
       "      <td>22.90</td>\n",
       "      <td>7.74M</td>\n",
       "      <td>3.26%</td>\n",
       "    </tr>\n",
       "    <tr>\n",
       "      <th>1102</th>\n",
       "      <td>03-01-2020</td>\n",
       "      <td>25.05</td>\n",
       "      <td>23.60</td>\n",
       "      <td>25.30</td>\n",
       "      <td>23.60</td>\n",
       "      <td>17.98M</td>\n",
       "      <td>5.47%</td>\n",
       "    </tr>\n",
       "    <tr>\n",
       "      <th>1101</th>\n",
       "      <td>06-01-2020</td>\n",
       "      <td>23.85</td>\n",
       "      <td>24.65</td>\n",
       "      <td>24.80</td>\n",
       "      <td>23.65</td>\n",
       "      <td>7.95M</td>\n",
       "      <td>-4.79%</td>\n",
       "    </tr>\n",
       "    <tr>\n",
       "      <th>1100</th>\n",
       "      <td>07-01-2020</td>\n",
       "      <td>24.55</td>\n",
       "      <td>24.15</td>\n",
       "      <td>25.05</td>\n",
       "      <td>24.00</td>\n",
       "      <td>8.53M</td>\n",
       "      <td>2.94%</td>\n",
       "    </tr>\n",
       "    <tr>\n",
       "      <th>...</th>\n",
       "      <td>...</td>\n",
       "      <td>...</td>\n",
       "      <td>...</td>\n",
       "      <td>...</td>\n",
       "      <td>...</td>\n",
       "      <td>...</td>\n",
       "      <td>...</td>\n",
       "    </tr>\n",
       "    <tr>\n",
       "      <th>4</th>\n",
       "      <td>06-06-2024</td>\n",
       "      <td>368.65</td>\n",
       "      <td>369.80</td>\n",
       "      <td>383.75</td>\n",
       "      <td>365.05</td>\n",
       "      <td>43.19M</td>\n",
       "      <td>4.34%</td>\n",
       "    </tr>\n",
       "    <tr>\n",
       "      <th>3</th>\n",
       "      <td>07-06-2024</td>\n",
       "      <td>374.55</td>\n",
       "      <td>374.00</td>\n",
       "      <td>382.00</td>\n",
       "      <td>370.40</td>\n",
       "      <td>27.25M</td>\n",
       "      <td>1.60%</td>\n",
       "    </tr>\n",
       "    <tr>\n",
       "      <th>2</th>\n",
       "      <td>10-06-2024</td>\n",
       "      <td>373.95</td>\n",
       "      <td>383.65</td>\n",
       "      <td>386.80</td>\n",
       "      <td>369.10</td>\n",
       "      <td>22.56M</td>\n",
       "      <td>-0.16%</td>\n",
       "    </tr>\n",
       "    <tr>\n",
       "      <th>1</th>\n",
       "      <td>11-06-2024</td>\n",
       "      <td>389.40</td>\n",
       "      <td>381.50</td>\n",
       "      <td>392.45</td>\n",
       "      <td>379.00</td>\n",
       "      <td>43.44M</td>\n",
       "      <td>4.13%</td>\n",
       "    </tr>\n",
       "    <tr>\n",
       "      <th>0</th>\n",
       "      <td>12-06-2024</td>\n",
       "      <td>392.65</td>\n",
       "      <td>390.05</td>\n",
       "      <td>396.75</td>\n",
       "      <td>389.40</td>\n",
       "      <td>11.57M</td>\n",
       "      <td>0.83%</td>\n",
       "    </tr>\n",
       "  </tbody>\n",
       "</table>\n",
       "<p>1105 rows × 7 columns</p>\n",
       "</div>"
      ],
      "text/plain": [
       "            Date   Price    Open    High     Low    Vol. Change %\n",
       "1104  01-01-2020   23.00   23.05   23.30   22.95   3.13M    0.22%\n",
       "1103  02-01-2020   23.75   23.05   23.90   22.90   7.74M    3.26%\n",
       "1102  03-01-2020   25.05   23.60   25.30   23.60  17.98M    5.47%\n",
       "1101  06-01-2020   23.85   24.65   24.80   23.65   7.95M   -4.79%\n",
       "1100  07-01-2020   24.55   24.15   25.05   24.00   8.53M    2.94%\n",
       "...          ...     ...     ...     ...     ...     ...      ...\n",
       "4     06-06-2024  368.65  369.80  383.75  365.05  43.19M    4.34%\n",
       "3     07-06-2024  374.55  374.00  382.00  370.40  27.25M    1.60%\n",
       "2     10-06-2024  373.95  383.65  386.80  369.10  22.56M   -0.16%\n",
       "1     11-06-2024  389.40  381.50  392.45  379.00  43.44M    4.13%\n",
       "0     12-06-2024  392.65  390.05  396.75  389.40  11.57M    0.83%\n",
       "\n",
       "[1105 rows x 7 columns]"
      ]
     },
     "execution_count": 5,
     "metadata": {},
     "output_type": "execute_result"
    }
   ],
   "source": [
    "data"
   ]
  },
  {
   "cell_type": "code",
   "execution_count": 6,
   "id": "0d2fad61",
   "metadata": {},
   "outputs": [],
   "source": [
    "df=data.reset_index()[\"Price\"]"
   ]
  },
  {
   "cell_type": "code",
   "execution_count": 7,
   "id": "c47b5b59",
   "metadata": {},
   "outputs": [
    {
     "data": {
      "text/plain": [
       "0        23.00\n",
       "1        23.75\n",
       "2        25.05\n",
       "3        23.85\n",
       "4        24.55\n",
       "         ...  \n",
       "1100    368.65\n",
       "1101    374.55\n",
       "1102    373.95\n",
       "1103    389.40\n",
       "1104    392.65\n",
       "Name: Price, Length: 1105, dtype: float64"
      ]
     },
     "execution_count": 7,
     "metadata": {},
     "output_type": "execute_result"
    }
   ],
   "source": [
    "df"
   ]
  },
  {
   "cell_type": "code",
   "execution_count": 8,
   "id": "16299710",
   "metadata": {},
   "outputs": [
    {
     "data": {
      "text/plain": [
       "[<matplotlib.lines.Line2D at 0x26f38774d90>]"
      ]
     },
     "execution_count": 8,
     "metadata": {},
     "output_type": "execute_result"
    },
    {
     "data": {
      "image/png": "[encoded data removed]",
      "text/plain": [
       "<Figure size 640x480 with 1 Axes>"
      ]
     },
     "metadata": {},
     "output_type": "display_data"
    }
   ],
   "source": [
    "plt.plot(df)"
   ]
  },
  {
   "cell_type": "code",
   "execution_count": 9,
   "id": "bd954993",
   "metadata": {},
   "outputs": [],
   "source": [
    "from sklearn.preprocessing import MinMaxScaler"
   ]
  },
  {
   "cell_type": "code",
   "execution_count": 10,
   "id": "f45d93b3",
   "metadata": {},
   "outputs": [],
   "source": [
    "scaler=MinMaxScaler(feature_range=(0,1))"
   ]
  },
  {
   "cell_type": "code",
   "execution_count": 11,
   "id": "761f18ca",
   "metadata": {},
   "outputs": [],
   "source": [
    "df1=scaler.fit_transform(np.array(df).reshape(-1,1))"
   ]
  },
  {
   "cell_type": "code",
   "execution_count": 12,
   "id": "09fecbdb",
   "metadata": {},
   "outputs": [
    {
     "data": {
      "text/plain": [
       "array([[0.03049168],\n",
       "       [0.03239741],\n",
       "       [0.03570067],\n",
       "       ...,\n",
       "       [0.92224622],\n",
       "       [0.96150426],\n",
       "       [0.96976242]])"
      ]
     },
     "execution_count": 12,
     "metadata": {},
     "output_type": "execute_result"
    }
   ],
   "source": [
    "df1"
   ]
  },
  {
   "cell_type": "markdown",
   "id": "349e2df9",
   "metadata": {},
   "source": [
    "#### Splitting Data"
   ]
  },
  {
   "cell_type": "code",
   "execution_count": 17,
   "id": "a7f324c6",
   "metadata": {},
   "outputs": [
    {
     "data": {
      "text/plain": [
       "1105"
      ]
     },
     "execution_count": 17,
     "metadata": {},
     "output_type": "execute_result"
    }
   ],
   "source": [
    "n=len(df1)\n",
    "n"
   ]
  },
  {
   "cell_type": "code",
   "execution_count": 22,
   "id": "ed24bc7f",
   "metadata": {},
   "outputs": [
    {
     "data": {
      "text/plain": [
       "773"
      ]
     },
     "execution_count": 22,
     "metadata": {},
     "output_type": "execute_result"
    }
   ],
   "source": [
    "train_size=int(n*0.7)\n",
    "train_size"
   ]
  },
  {
   "cell_type": "code",
   "execution_count": 23,
   "id": "01206e28",
   "metadata": {},
   "outputs": [
    {
     "data": {
      "text/plain": [
       "332"
      ]
     },
     "execution_count": 23,
     "metadata": {},
     "output_type": "execute_result"
    }
   ],
   "source": [
    "test_size=n-train_size\n",
    "test_size"
   ]
  },
  {
   "cell_type": "code",
   "execution_count": 24,
   "id": "6100829e",
   "metadata": {},
   "outputs": [],
   "source": [
    "train_data=df1[:train_size,:]\n",
    "test_data=df1[train_size:,:]"
   ]
  },
  {
   "cell_type": "code",
   "execution_count": 26,
   "id": "694671f6",
   "metadata": {},
   "outputs": [
    {
     "data": {
      "text/plain": [
       "(773, 1)"
      ]
     },
     "execution_count": 26,
     "metadata": {},
     "output_type": "execute_result"
    }
   ],
   "source": [
    "train_data.shape"
   ]
  },
  {
   "cell_type": "code",
   "execution_count": 27,
   "id": "2293c608",
   "metadata": {},
   "outputs": [
    {
     "data": {
      "text/plain": [
       "(332, 1)"
      ]
     },
     "execution_count": 27,
     "metadata": {},
     "output_type": "execute_result"
    }
   ],
   "source": [
    "test_data.shape"
   ]
  },
  {
   "cell_type": "code",
   "execution_count": 28,
   "id": "f26d6ab5",
   "metadata": {},
   "outputs": [],
   "source": [
    "# Timesteps = > used to determine the features of the predictions of current data"
   ]
  },
  {
   "cell_type": "code",
   "execution_count": 29,
   "id": "aac59e24",
   "metadata": {},
   "outputs": [],
   "source": [
    "\n",
    "\n",
    "def create_dataset(data,time_stamp=10):\n",
    "    dX,dY=[],[]\n",
    "    \n",
    "    for i in range(len(data)-time_stamp-1):\n",
    "        a=data[i:i+time_stamp,0]\n",
    "        dX.append(a)\n",
    "        dY.append(data[i+time_stamp,0])\n",
    "    return np.array(dX),np.array(dY)"
   ]
  },
  {
   "cell_type": "code",
   "execution_count": 30,
   "id": "872d8fd9",
   "metadata": {},
   "outputs": [],
   "source": [
    "time_stamp=100\n",
    "X_train,y_train=create_dataset(train_data,time_stamp)\n",
    "X_test,y_test=create_dataset(test_data,time_stamp)"
   ]
  },
  {
   "cell_type": "code",
   "execution_count": 32,
   "id": "8bd7f2ff",
   "metadata": {},
   "outputs": [
    {
     "name": "stdout",
     "output_type": "stream",
     "text": [
      "(672, 100) (672,) (231, 100) (231,)\n"
     ]
    }
   ],
   "source": [
    "print(X_train.shape,y_train.shape,X_test.shape,y_test.shape)"
   ]
  },
  {
   "cell_type": "code",
   "execution_count": 35,
   "id": "facc6e26",
   "metadata": {},
   "outputs": [],
   "source": [
    "X_train=X_train.reshape(X_train.shape[0],X_train.shape[1],1)\n",
    "X_test=X_test.reshape(X_test.shape[0],X_test.shape[1],1)\n"
   ]
  },
  {
   "cell_type": "code",
   "execution_count": 37,
   "id": "5890fa70",
   "metadata": {},
   "outputs": [
    {
     "data": {
      "text/plain": [
       "(231, 100, 1)"
      ]
     },
     "execution_count": 37,
     "metadata": {},
     "output_type": "execute_result"
    }
   ],
   "source": [
    "X_test.shape"
   ]
  },
  {
   "cell_type": "markdown",
   "id": "ec0f9208",
   "metadata": {},
   "source": [
    "#### Model Building"
   ]
  },
  {
   "cell_type": "code",
   "execution_count": 49,
   "id": "fb3f8c41",
   "metadata": {},
   "outputs": [],
   "source": [
    "model=Sequential()\n",
    "model.add(LSTM(128,return_sequences=True,input_shape=(100,1)))\n",
    "model.add(LSTM(64,return_sequences=True))\n",
    "model.add(LSTM(32))\n",
    "model.add(Dense(1))\n",
    "model.compile(loss=\"mean_squared_error\",optimizer=\"adam\")"
   ]
  },
  {
   "cell_type": "code",
   "execution_count": 50,
   "id": "95c7f7a8",
   "metadata": {},
   "outputs": [
    {
     "name": "stdout",
     "output_type": "stream",
     "text": [
      "Epoch 1/100\n",
      "11/11 [==============================] - 8s 353ms/step - loss: 0.0012 - val_loss: 0.0743\n",
      "Epoch 2/100\n",
      "11/11 [==============================] - 3s 237ms/step - loss: 2.6227e-04 - val_loss: 0.0080\n",
      "Epoch 3/100\n",
      "11/11 [==============================] - 3s 249ms/step - loss: 1.3855e-04 - val_loss: 0.0079\n",
      "Epoch 4/100\n",
      "11/11 [==============================] - 2s 216ms/step - loss: 1.0785e-04 - val_loss: 0.0050\n",
      "Epoch 5/100\n",
      "11/11 [==============================] - 2s 223ms/step - loss: 8.7688e-05 - val_loss: 0.0064\n",
      "Epoch 6/100\n",
      "11/11 [==============================] - 3s 231ms/step - loss: 8.5038e-05 - val_loss: 0.0052\n",
      "Epoch 7/100\n",
      "11/11 [==============================] - 2s 224ms/step - loss: 7.5150e-05 - val_loss: 0.0049\n",
      "Epoch 8/100\n",
      "11/11 [==============================] - 3s 230ms/step - loss: 6.9877e-05 - val_loss: 0.0049\n",
      "Epoch 9/100\n",
      "11/11 [==============================] - 3s 253ms/step - loss: 6.2732e-05 - val_loss: 0.0050\n",
      "Epoch 10/100\n",
      "11/11 [==============================] - 3s 260ms/step - loss: 5.8745e-05 - val_loss: 0.0052\n",
      "Epoch 11/100\n",
      "11/11 [==============================] - 3s 241ms/step - loss: 5.6890e-05 - val_loss: 0.0050\n",
      "Epoch 12/100\n",
      "11/11 [==============================] - 3s 269ms/step - loss: 5.8785e-05 - val_loss: 0.0054\n",
      "Epoch 13/100\n",
      "11/11 [==============================] - 3s 251ms/step - loss: 5.3431e-05 - val_loss: 0.0059\n",
      "Epoch 14/100\n",
      "11/11 [==============================] - 3s 254ms/step - loss: 5.0567e-05 - val_loss: 0.0043\n",
      "Epoch 15/100\n",
      "11/11 [==============================] - 3s 256ms/step - loss: 5.0180e-05 - val_loss: 0.0051\n",
      "Epoch 16/100\n",
      "11/11 [==============================] - 3s 253ms/step - loss: 4.9541e-05 - val_loss: 0.0057\n",
      "Epoch 17/100\n",
      "11/11 [==============================] - 3s 264ms/step - loss: 4.7510e-05 - val_loss: 0.0050\n",
      "Epoch 18/100\n",
      "11/11 [==============================] - 3s 239ms/step - loss: 4.8602e-05 - val_loss: 0.0045\n",
      "Epoch 19/100\n",
      "11/11 [==============================] - 3s 260ms/step - loss: 4.5453e-05 - val_loss: 0.0051\n",
      "Epoch 20/100\n",
      "11/11 [==============================] - 3s 250ms/step - loss: 4.7411e-05 - val_loss: 0.0063\n",
      "Epoch 21/100\n",
      "11/11 [==============================] - 3s 277ms/step - loss: 4.7172e-05 - val_loss: 0.0079\n",
      "Epoch 22/100\n",
      "11/11 [==============================] - 3s 246ms/step - loss: 4.6917e-05 - val_loss: 0.0034\n",
      "Epoch 23/100\n",
      "11/11 [==============================] - 3s 253ms/step - loss: 4.8245e-05 - val_loss: 0.0096\n",
      "Epoch 24/100\n",
      "11/11 [==============================] - 3s 252ms/step - loss: 4.6011e-05 - val_loss: 0.0054\n",
      "Epoch 25/100\n",
      "11/11 [==============================] - 3s 243ms/step - loss: 4.1934e-05 - val_loss: 0.0042\n",
      "Epoch 26/100\n",
      "11/11 [==============================] - 3s 257ms/step - loss: 4.1325e-05 - val_loss: 0.0048\n",
      "Epoch 27/100\n",
      "11/11 [==============================] - 3s 244ms/step - loss: 4.1738e-05 - val_loss: 0.0051\n",
      "Epoch 28/100\n",
      "11/11 [==============================] - 3s 259ms/step - loss: 3.7873e-05 - val_loss: 0.0052\n",
      "Epoch 29/100\n",
      "11/11 [==============================] - 3s 256ms/step - loss: 3.6381e-05 - val_loss: 0.0035\n",
      "Epoch 30/100\n",
      "11/11 [==============================] - 3s 259ms/step - loss: 3.8917e-05 - val_loss: 0.0094\n",
      "Epoch 31/100\n",
      "11/11 [==============================] - 3s 242ms/step - loss: 4.1848e-05 - val_loss: 0.0070\n",
      "Epoch 32/100\n",
      "11/11 [==============================] - 3s 264ms/step - loss: 3.8488e-05 - val_loss: 0.0034\n",
      "Epoch 33/100\n",
      "11/11 [==============================] - 3s 251ms/step - loss: 3.6813e-05 - val_loss: 0.0049\n",
      "Epoch 34/100\n",
      "11/11 [==============================] - 3s 242ms/step - loss: 3.2934e-05 - val_loss: 0.0056\n",
      "Epoch 35/100\n",
      "11/11 [==============================] - 3s 257ms/step - loss: 4.2250e-05 - val_loss: 0.0039\n",
      "Epoch 36/100\n",
      "11/11 [==============================] - 3s 241ms/step - loss: 3.7629e-05 - val_loss: 0.0031\n",
      "Epoch 37/100\n",
      "11/11 [==============================] - 3s 260ms/step - loss: 3.4885e-05 - val_loss: 0.0059\n",
      "Epoch 38/100\n",
      "11/11 [==============================] - 3s 237ms/step - loss: 3.2642e-05 - val_loss: 0.0037\n",
      "Epoch 39/100\n",
      "11/11 [==============================] - 3s 259ms/step - loss: 3.3133e-05 - val_loss: 0.0051\n",
      "Epoch 40/100\n",
      "11/11 [==============================] - 3s 249ms/step - loss: 3.2753e-05 - val_loss: 0.0045\n",
      "Epoch 41/100\n",
      "11/11 [==============================] - 3s 264ms/step - loss: 3.3443e-05 - val_loss: 0.0053\n",
      "Epoch 42/100\n",
      "11/11 [==============================] - 3s 239ms/step - loss: 3.6625e-05 - val_loss: 0.0026\n",
      "Epoch 43/100\n",
      "11/11 [==============================] - 3s 259ms/step - loss: 3.2808e-05 - val_loss: 0.0053\n",
      "Epoch 44/100\n",
      "11/11 [==============================] - 3s 247ms/step - loss: 3.2333e-05 - val_loss: 0.0066\n",
      "Epoch 45/100\n",
      "11/11 [==============================] - 3s 259ms/step - loss: 3.9493e-05 - val_loss: 0.0032\n",
      "Epoch 46/100\n",
      "11/11 [==============================] - 3s 243ms/step - loss: 3.4048e-05 - val_loss: 0.0065\n",
      "Epoch 47/100\n",
      "11/11 [==============================] - 3s 248ms/step - loss: 3.4722e-05 - val_loss: 0.0036\n",
      "Epoch 48/100\n",
      "11/11 [==============================] - 3s 267ms/step - loss: 3.2053e-05 - val_loss: 0.0033\n",
      "Epoch 49/100\n",
      "11/11 [==============================] - 3s 246ms/step - loss: 3.0029e-05 - val_loss: 0.0033\n",
      "Epoch 50/100\n",
      "11/11 [==============================] - 3s 259ms/step - loss: 3.0201e-05 - val_loss: 0.0063\n",
      "Epoch 51/100\n",
      "11/11 [==============================] - 3s 241ms/step - loss: 4.2661e-05 - val_loss: 0.0039\n",
      "Epoch 52/100\n",
      "11/11 [==============================] - 3s 264ms/step - loss: 3.2374e-05 - val_loss: 0.0031\n",
      "Epoch 53/100\n",
      "11/11 [==============================] - 3s 249ms/step - loss: 3.3116e-05 - val_loss: 0.0047\n",
      "Epoch 54/100\n",
      "11/11 [==============================] - 3s 272ms/step - loss: 2.9690e-05 - val_loss: 0.0023\n",
      "Epoch 55/100\n",
      "11/11 [==============================] - 3s 257ms/step - loss: 3.8476e-05 - val_loss: 0.0045\n",
      "Epoch 56/100\n",
      "11/11 [==============================] - 3s 254ms/step - loss: 3.2676e-05 - val_loss: 0.0046\n",
      "Epoch 57/100\n",
      "11/11 [==============================] - 3s 255ms/step - loss: 3.0533e-05 - val_loss: 0.0046\n",
      "Epoch 58/100\n",
      "11/11 [==============================] - 3s 255ms/step - loss: 3.0710e-05 - val_loss: 0.0037\n",
      "Epoch 59/100\n",
      "11/11 [==============================] - 3s 266ms/step - loss: 3.3028e-05 - val_loss: 0.0034\n",
      "Epoch 60/100\n",
      "11/11 [==============================] - 3s 256ms/step - loss: 3.3989e-05 - val_loss: 0.0030\n",
      "Epoch 61/100\n",
      "11/11 [==============================] - 3s 259ms/step - loss: 3.5053e-05 - val_loss: 0.0036\n",
      "Epoch 62/100\n",
      "11/11 [==============================] - 3s 249ms/step - loss: 2.8355e-05 - val_loss: 0.0038\n",
      "Epoch 63/100\n",
      "11/11 [==============================] - 3s 269ms/step - loss: 2.7789e-05 - val_loss: 0.0040\n",
      "Epoch 64/100\n",
      "11/11 [==============================] - 3s 250ms/step - loss: 2.8524e-05 - val_loss: 0.0047\n",
      "Epoch 65/100\n",
      "11/11 [==============================] - 3s 248ms/step - loss: 2.8968e-05 - val_loss: 0.0031\n",
      "Epoch 66/100\n",
      "11/11 [==============================] - 3s 270ms/step - loss: 3.1279e-05 - val_loss: 0.0032\n",
      "Epoch 67/100\n",
      "11/11 [==============================] - 3s 252ms/step - loss: 2.8828e-05 - val_loss: 0.0041\n",
      "Epoch 68/100\n",
      "11/11 [==============================] - 3s 304ms/step - loss: 2.7808e-05 - val_loss: 0.0044\n",
      "Epoch 69/100\n",
      "11/11 [==============================] - 3s 243ms/step - loss: 3.0554e-05 - val_loss: 0.0030\n",
      "Epoch 70/100\n",
      "11/11 [==============================] - 3s 265ms/step - loss: 2.9182e-05 - val_loss: 0.0051\n",
      "Epoch 71/100\n",
      "11/11 [==============================] - 3s 237ms/step - loss: 2.8128e-05 - val_loss: 0.0029\n",
      "Epoch 72/100\n",
      "11/11 [==============================] - 3s 249ms/step - loss: 3.0870e-05 - val_loss: 0.0053\n",
      "Epoch 73/100\n",
      "11/11 [==============================] - 3s 245ms/step - loss: 3.2609e-05 - val_loss: 0.0029\n",
      "Epoch 74/100\n",
      "11/11 [==============================] - 3s 257ms/step - loss: 3.8565e-05 - val_loss: 0.0069\n",
      "Epoch 75/100\n",
      "11/11 [==============================] - 3s 260ms/step - loss: 2.8129e-05 - val_loss: 0.0021\n",
      "Epoch 76/100\n",
      "11/11 [==============================] - 3s 247ms/step - loss: 2.9317e-05 - val_loss: 0.0029\n",
      "Epoch 77/100\n",
      "11/11 [==============================] - 3s 262ms/step - loss: 2.9477e-05 - val_loss: 0.0048\n",
      "Epoch 78/100\n"
     ]
    },
    {
     "name": "stdout",
     "output_type": "stream",
     "text": [
      "11/11 [==============================] - 3s 256ms/step - loss: 2.9061e-05 - val_loss: 0.0024\n",
      "Epoch 79/100\n",
      "11/11 [==============================] - 3s 262ms/step - loss: 3.0543e-05 - val_loss: 0.0028\n",
      "Epoch 80/100\n",
      "11/11 [==============================] - 3s 251ms/step - loss: 3.1377e-05 - val_loss: 0.0035\n",
      "Epoch 81/100\n",
      "11/11 [==============================] - 3s 262ms/step - loss: 2.8062e-05 - val_loss: 0.0034\n",
      "Epoch 82/100\n",
      "11/11 [==============================] - 3s 245ms/step - loss: 2.6044e-05 - val_loss: 0.0033\n",
      "Epoch 83/100\n",
      "11/11 [==============================] - 3s 263ms/step - loss: 2.7264e-05 - val_loss: 0.0036\n",
      "Epoch 84/100\n",
      "11/11 [==============================] - 3s 268ms/step - loss: 3.1027e-05 - val_loss: 0.0029\n",
      "Epoch 85/100\n",
      "11/11 [==============================] - 3s 249ms/step - loss: 2.7950e-05 - val_loss: 0.0034\n",
      "Epoch 86/100\n",
      "11/11 [==============================] - 3s 254ms/step - loss: 2.6229e-05 - val_loss: 0.0055\n",
      "Epoch 87/100\n",
      "11/11 [==============================] - 3s 245ms/step - loss: 2.8962e-05 - val_loss: 0.0026\n",
      "Epoch 88/100\n",
      "11/11 [==============================] - 3s 260ms/step - loss: 2.7590e-05 - val_loss: 0.0029\n",
      "Epoch 89/100\n",
      "11/11 [==============================] - 3s 252ms/step - loss: 3.3110e-05 - val_loss: 0.0028\n",
      "Epoch 90/100\n",
      "11/11 [==============================] - 3s 270ms/step - loss: 3.3397e-05 - val_loss: 0.0020\n",
      "Epoch 91/100\n",
      "11/11 [==============================] - 3s 253ms/step - loss: 2.6366e-05 - val_loss: 0.0068\n",
      "Epoch 92/100\n",
      "11/11 [==============================] - 3s 252ms/step - loss: 3.0198e-05 - val_loss: 0.0028\n",
      "Epoch 93/100\n",
      "11/11 [==============================] - 3s 263ms/step - loss: 3.4052e-05 - val_loss: 0.0029\n",
      "Epoch 94/100\n",
      "11/11 [==============================] - 3s 256ms/step - loss: 3.5720e-05 - val_loss: 0.0028\n",
      "Epoch 95/100\n",
      "11/11 [==============================] - 3s 263ms/step - loss: 3.4134e-05 - val_loss: 0.0037\n",
      "Epoch 96/100\n",
      "11/11 [==============================] - 3s 244ms/step - loss: 2.9155e-05 - val_loss: 0.0024\n",
      "Epoch 97/100\n",
      "11/11 [==============================] - 3s 262ms/step - loss: 2.8135e-05 - val_loss: 0.0023\n",
      "Epoch 98/100\n",
      "11/11 [==============================] - 3s 244ms/step - loss: 2.6428e-05 - val_loss: 0.0035\n",
      "Epoch 99/100\n",
      "11/11 [==============================] - 3s 266ms/step - loss: 2.6149e-05 - val_loss: 0.0018\n",
      "Epoch 100/100\n",
      "11/11 [==============================] - 3s 265ms/step - loss: 2.7007e-05 - val_loss: 0.0028\n"
     ]
    }
   ],
   "source": [
    "history=model.fit(X_train,y_train,validation_data=(X_test,y_test),epochs=100,batch_size=64)"
   ]
  },
  {
   "cell_type": "code",
   "execution_count": 53,
   "id": "2d7af9fb",
   "metadata": {},
   "outputs": [
    {
     "name": "stdout",
     "output_type": "stream",
     "text": [
      "21/21 [==============================] - 3s 79ms/step\n",
      "8/8 [==============================] - 2s 76ms/step\n"
     ]
    }
   ],
   "source": [
    "train_predict=model.predict(X_train)\n",
    "test_predict=model.predict(X_test)"
   ]
  },
  {
   "cell_type": "code",
   "execution_count": 55,
   "id": "5d0986ca",
   "metadata": {},
   "outputs": [],
   "source": [
    "train_predict_org=scaler.inverse_transform(train_predict)\n",
    "test_predict_org=scaler.inverse_transform(test_predict)"
   ]
  },
  {
   "cell_type": "code",
   "execution_count": 56,
   "id": "72f3d232",
   "metadata": {},
   "outputs": [
    {
     "data": {
      "text/plain": [
       "35.35971654653371"
      ]
     },
     "execution_count": 56,
     "metadata": {},
     "output_type": "execute_result"
    }
   ],
   "source": [
    "import math\n",
    "from sklearn.metrics import mean_squared_error\n",
    "math.sqrt(mean_squared_error(y_train,train_predict_org))"
   ]
  },
  {
   "cell_type": "code",
   "execution_count": 57,
   "id": "765e22f2",
   "metadata": {},
   "outputs": [
    {
     "data": {
      "text/plain": [
       "206.71340493159744"
      ]
     },
     "execution_count": 57,
     "metadata": {},
     "output_type": "execute_result"
    }
   ],
   "source": [
    "math.sqrt(mean_squared_error(y_test,test_predict_org))"
   ]
  },
  {
   "cell_type": "code",
   "execution_count": 58,
   "id": "99c7bc69",
   "metadata": {},
   "outputs": [],
   "source": [
    "import matplotlib.pyplot as plt"
   ]
  },
  {
   "cell_type": "code",
   "execution_count": 59,
   "id": "f5aedac4",
   "metadata": {},
   "outputs": [
    {
     "data": {
      "image/png": "[encoded data removed]",
      "text/plain": [
       "<Figure size 1400x700 with 1 Axes>"
      ]
     },
     "metadata": {},
     "output_type": "display_data"
    }
   ],
   "source": [
    "plt.figure(figsize=(14, 7))\n",
    "plt.plot(history.history['loss'])\n",
    "plt.plot(history.history['val_loss'])\n",
    "plt.title('Model loss')\n",
    "plt.ylabel('Loss')\n",
    "plt.xlabel('Epoch')\n",
    "plt.legend(['Train', 'Validation'], loc='upper right')\n",
    "plt.show()"
   ]
  },
  {
   "cell_type": "code",
   "execution_count": 72,
   "id": "935278b4",
   "metadata": {},
   "outputs": [],
   "source": [
    "import numpy"
   ]
  },
  {
   "cell_type": "code",
   "execution_count": 73,
   "id": "99ded00d",
   "metadata": {},
   "outputs": [],
   "source": [
    "look_back=100\n",
    "train_pp=numpy.empty_like(df1)\n",
    "train_pp[:,:]=np.nan\n",
    "train_pp[look_back:len(train_predict_org)+look_back,:]=train_predict_org\n",
    "\n",
    "test_pp=numpy.empty_like(df1)\n",
    "test_pp[:,:]=np.nan\n",
    "test_pp[len(train_predict_org)+look_back*2 +1:len(df1)-1,:]=test_predict_org\n",
    "\n"
   ]
  },
  {
   "cell_type": "code",
   "execution_count": 74,
   "id": "ba9faf4b",
   "metadata": {},
   "outputs": [
    {
     "data": {
      "text/plain": [
       "[<matplotlib.lines.Line2D at 0x26f5f14b250>]"
      ]
     },
     "execution_count": 74,
     "metadata": {},
     "output_type": "execute_result"
    },
    {
     "data": {
      "image/png": "[encoded data removed]",
      "text/plain": [
       "<Figure size 640x480 with 1 Axes>"
      ]
     },
     "metadata": {},
     "output_type": "display_data"
    }
   ],
   "source": [
    "plt.plot(scaler.inverse_transform(df1))"
   ]
  },
  {
   "cell_type": "code",
   "execution_count": 75,
   "id": "b7873fc9",
   "metadata": {},
   "outputs": [
    {
     "data": {
      "image/png": "[encoded data removed]",
      "text/plain": [
       "<Figure size 640x480 with 1 Axes>"
      ]
     },
     "metadata": {},
     "output_type": "display_data"
    }
   ],
   "source": [
    "plt.plot(scaler.inverse_transform(df1))\n",
    "plt.plot(train_pp)\n",
    "plt.plot(test_pp)\n",
    "plt.show()"
   ]
  },
  {
   "cell_type": "code",
   "execution_count": null,
   "id": "9b237516",
   "metadata": {},
   "outputs": [],
   "source": []
  },
  {
   "cell_type": "code",
   "execution_count": 76,
   "id": "bc22ca65",
   "metadata": {},
   "outputs": [
    {
     "data": {
      "text/plain": [
       "(332, 1)"
      ]
     },
     "execution_count": 76,
     "metadata": {},
     "output_type": "execute_result"
    }
   ],
   "source": [
    "test_data.shape"
   ]
  },
  {
   "cell_type": "code",
   "execution_count": 80,
   "id": "bba0fcfe",
   "metadata": {},
   "outputs": [
    {
     "data": {
      "text/plain": [
       "(1, 100)"
      ]
     },
     "execution_count": 80,
     "metadata": {},
     "output_type": "execute_result"
    }
   ],
   "source": [
    "x_input=test_data[232:].reshape(1,-1)\n",
    "x_input.shape"
   ]
  },
  {
   "cell_type": "code",
   "execution_count": 81,
   "id": "27bde918",
   "metadata": {},
   "outputs": [],
   "source": [
    "temp_input=list(x_input)\n",
    "temp_input=temp_input[0].tolist()"
   ]
  },
  {
   "cell_type": "code",
   "execution_count": 82,
   "id": "1f179fba",
   "metadata": {},
   "outputs": [
    {
     "name": "stdout",
     "output_type": "stream",
     "text": [
      "[0.8235779]\n",
      "101\n",
      "1 day input [0.59103036 0.71210774 0.78605006 0.7057553  0.73141913 0.73929615\n",
      " 0.73192733 0.7248126  0.75530428 0.72811587 0.72049295 0.6869521\n",
      " 0.69673485 0.68568162 0.68784144 0.6307966  0.55545674 0.59636641\n",
      " 0.60437047 0.63117774 0.61161225 0.64858341 0.65112438 0.63359167\n",
      " 0.63613264 0.6443908  0.65036209 0.65023504 0.63016135 0.592682\n",
      " 0.59763689 0.60970652 0.58836234 0.58505908 0.57565748 0.57667387\n",
      " 0.59573117 0.59064922 0.53766993 0.59077627 0.59598526 0.59306314\n",
      " 0.59573117 0.57985008 0.59331724 0.60691145 0.63384576 0.62253843\n",
      " 0.61466142 0.63714903 0.64388261 0.64553424 0.64273917 0.64312032\n",
      " 0.64337441 0.63803837 0.63308347 0.63321052 0.60983357 0.62736628\n",
      " 0.63244823 0.62876382 0.64324736 0.67678821 0.69432092 0.70168975\n",
      " 0.70867742 0.70588235 0.69978402 0.7060094  0.69393978 0.67412019\n",
      " 0.65010799 0.65798501 0.63537035 0.63537035 0.62190319 0.6681489\n",
      " 0.67234151 0.68415703 0.7109643  0.73357896 0.84042688 0.83953754\n",
      " 0.91792657 0.91347986 0.92999619 0.92122983 0.92681997 0.94473383\n",
      " 0.94193876 1.         0.86520137 0.86977512 0.90877906 0.9237708\n",
      " 0.92224622 0.96150426 0.96976242 0.82357788] 100\n",
      "1 day output [[0.8213372]]\n",
      "2 day input [0.71210774 0.78605006 0.7057553  0.73141913 0.73929615 0.73192733\n",
      " 0.7248126  0.75530428 0.72811587 0.72049295 0.6869521  0.69673485\n",
      " 0.68568162 0.68784144 0.6307966  0.55545674 0.59636641 0.60437047\n",
      " 0.63117774 0.61161225 0.64858341 0.65112438 0.63359167 0.63613264\n",
      " 0.6443908  0.65036209 0.65023504 0.63016135 0.592682   0.59763689\n",
      " 0.60970652 0.58836234 0.58505908 0.57565748 0.57667387 0.59573117\n",
      " 0.59064922 0.53766993 0.59077627 0.59598526 0.59306314 0.59573117\n",
      " 0.57985008 0.59331724 0.60691145 0.63384576 0.62253843 0.61466142\n",
      " 0.63714903 0.64388261 0.64553424 0.64273917 0.64312032 0.64337441\n",
      " 0.63803837 0.63308347 0.63321052 0.60983357 0.62736628 0.63244823\n",
      " 0.62876382 0.64324736 0.67678821 0.69432092 0.70168975 0.70867742\n",
      " 0.70588235 0.69978402 0.7060094  0.69393978 0.67412019 0.65010799\n",
      " 0.65798501 0.63537035 0.63537035 0.62190319 0.6681489  0.67234151\n",
      " 0.68415703 0.7109643  0.73357896 0.84042688 0.83953754 0.91792657\n",
      " 0.91347986 0.92999619 0.92122983 0.92681997 0.94473383 0.94193876\n",
      " 1.         0.86520137 0.86977512 0.90877906 0.9237708  0.92224622\n",
      " 0.96150426 0.96976242 0.82357788 0.82133722] 100\n",
      "2 day output [[0.80691063]]\n",
      "3 day input [0.78605006 0.7057553  0.73141913 0.73929615 0.73192733 0.7248126\n",
      " 0.75530428 0.72811587 0.72049295 0.6869521  0.69673485 0.68568162\n",
      " 0.68784144 0.6307966  0.55545674 0.59636641 0.60437047 0.63117774\n",
      " 0.61161225 0.64858341 0.65112438 0.63359167 0.63613264 0.6443908\n",
      " 0.65036209 0.65023504 0.63016135 0.592682   0.59763689 0.60970652\n",
      " 0.58836234 0.58505908 0.57565748 0.57667387 0.59573117 0.59064922\n",
      " 0.53766993 0.59077627 0.59598526 0.59306314 0.59573117 0.57985008\n",
      " 0.59331724 0.60691145 0.63384576 0.62253843 0.61466142 0.63714903\n",
      " 0.64388261 0.64553424 0.64273917 0.64312032 0.64337441 0.63803837\n",
      " 0.63308347 0.63321052 0.60983357 0.62736628 0.63244823 0.62876382\n",
      " 0.64324736 0.67678821 0.69432092 0.70168975 0.70867742 0.70588235\n",
      " 0.69978402 0.7060094  0.69393978 0.67412019 0.65010799 0.65798501\n",
      " 0.63537035 0.63537035 0.62190319 0.6681489  0.67234151 0.68415703\n",
      " 0.7109643  0.73357896 0.84042688 0.83953754 0.91792657 0.91347986\n",
      " 0.92999619 0.92122983 0.92681997 0.94473383 0.94193876 1.\n",
      " 0.86520137 0.86977512 0.90877906 0.9237708  0.92224622 0.96150426\n",
      " 0.96976242 0.82357788 0.82133722 0.80691063] 100\n",
      "3 day output [[0.78451467]]\n",
      "4 day input [0.7057553  0.73141913 0.73929615 0.73192733 0.7248126  0.75530428\n",
      " 0.72811587 0.72049295 0.6869521  0.69673485 0.68568162 0.68784144\n",
      " 0.6307966  0.55545674 0.59636641 0.60437047 0.63117774 0.61161225\n",
      " 0.64858341 0.65112438 0.63359167 0.63613264 0.6443908  0.65036209\n",
      " 0.65023504 0.63016135 0.592682   0.59763689 0.60970652 0.58836234\n",
      " 0.58505908 0.57565748 0.57667387 0.59573117 0.59064922 0.53766993\n",
      " 0.59077627 0.59598526 0.59306314 0.59573117 0.57985008 0.59331724\n",
      " 0.60691145 0.63384576 0.62253843 0.61466142 0.63714903 0.64388261\n",
      " 0.64553424 0.64273917 0.64312032 0.64337441 0.63803837 0.63308347\n",
      " 0.63321052 0.60983357 0.62736628 0.63244823 0.62876382 0.64324736\n",
      " 0.67678821 0.69432092 0.70168975 0.70867742 0.70588235 0.69978402\n",
      " 0.7060094  0.69393978 0.67412019 0.65010799 0.65798501 0.63537035\n",
      " 0.63537035 0.62190319 0.6681489  0.67234151 0.68415703 0.7109643\n",
      " 0.73357896 0.84042688 0.83953754 0.91792657 0.91347986 0.92999619\n",
      " 0.92122983 0.92681997 0.94473383 0.94193876 1.         0.86520137\n",
      " 0.86977512 0.90877906 0.9237708  0.92224622 0.96150426 0.96976242\n",
      " 0.82357788 0.82133722 0.80691063 0.78451467] 100\n",
      "4 day output [[0.7580389]]\n",
      "5 day input [0.73141913 0.73929615 0.73192733 0.7248126  0.75530428 0.72811587\n",
      " 0.72049295 0.6869521  0.69673485 0.68568162 0.68784144 0.6307966\n",
      " 0.55545674 0.59636641 0.60437047 0.63117774 0.61161225 0.64858341\n",
      " 0.65112438 0.63359167 0.63613264 0.6443908  0.65036209 0.65023504\n",
      " 0.63016135 0.592682   0.59763689 0.60970652 0.58836234 0.58505908\n",
      " 0.57565748 0.57667387 0.59573117 0.59064922 0.53766993 0.59077627\n",
      " 0.59598526 0.59306314 0.59573117 0.57985008 0.59331724 0.60691145\n",
      " 0.63384576 0.62253843 0.61466142 0.63714903 0.64388261 0.64553424\n",
      " 0.64273917 0.64312032 0.64337441 0.63803837 0.63308347 0.63321052\n",
      " 0.60983357 0.62736628 0.63244823 0.62876382 0.64324736 0.67678821\n",
      " 0.69432092 0.70168975 0.70867742 0.70588235 0.69978402 0.7060094\n",
      " 0.69393978 0.67412019 0.65010799 0.65798501 0.63537035 0.63537035\n",
      " 0.62190319 0.6681489  0.67234151 0.68415703 0.7109643  0.73357896\n",
      " 0.84042688 0.83953754 0.91792657 0.91347986 0.92999619 0.92122983\n",
      " 0.92681997 0.94473383 0.94193876 1.         0.86520137 0.86977512\n",
      " 0.90877906 0.9237708  0.92224622 0.96150426 0.96976242 0.82357788\n",
      " 0.82133722 0.80691063 0.78451467 0.75803888] 100\n",
      "5 day output [[0.73006964]]\n",
      "6 day input [0.73929615 0.73192733 0.7248126  0.75530428 0.72811587 0.72049295\n",
      " 0.6869521  0.69673485 0.68568162 0.68784144 0.6307966  0.55545674\n",
      " 0.59636641 0.60437047 0.63117774 0.61161225 0.64858341 0.65112438\n",
      " 0.63359167 0.63613264 0.6443908  0.65036209 0.65023504 0.63016135\n",
      " 0.592682   0.59763689 0.60970652 0.58836234 0.58505908 0.57565748\n",
      " 0.57667387 0.59573117 0.59064922 0.53766993 0.59077627 0.59598526\n",
      " 0.59306314 0.59573117 0.57985008 0.59331724 0.60691145 0.63384576\n",
      " 0.62253843 0.61466142 0.63714903 0.64388261 0.64553424 0.64273917\n",
      " 0.64312032 0.64337441 0.63803837 0.63308347 0.63321052 0.60983357\n",
      " 0.62736628 0.63244823 0.62876382 0.64324736 0.67678821 0.69432092\n",
      " 0.70168975 0.70867742 0.70588235 0.69978402 0.7060094  0.69393978\n",
      " 0.67412019 0.65010799 0.65798501 0.63537035 0.63537035 0.62190319\n",
      " 0.6681489  0.67234151 0.68415703 0.7109643  0.73357896 0.84042688\n",
      " 0.83953754 0.91792657 0.91347986 0.92999619 0.92122983 0.92681997\n",
      " 0.94473383 0.94193876 1.         0.86520137 0.86977512 0.90877906\n",
      " 0.9237708  0.92224622 0.96150426 0.96976242 0.82357788 0.82133722\n",
      " 0.80691063 0.78451467 0.75803888 0.73006964] 100\n",
      "6 day output [[0.7020712]]\n",
      "7 day input [0.73192733 0.7248126  0.75530428 0.72811587 0.72049295 0.6869521\n",
      " 0.69673485 0.68568162 0.68784144 0.6307966  0.55545674 0.59636641\n",
      " 0.60437047 0.63117774 0.61161225 0.64858341 0.65112438 0.63359167\n",
      " 0.63613264 0.6443908  0.65036209 0.65023504 0.63016135 0.592682\n",
      " 0.59763689 0.60970652 0.58836234 0.58505908 0.57565748 0.57667387\n",
      " 0.59573117 0.59064922 0.53766993 0.59077627 0.59598526 0.59306314\n",
      " 0.59573117 0.57985008 0.59331724 0.60691145 0.63384576 0.62253843\n",
      " 0.61466142 0.63714903 0.64388261 0.64553424 0.64273917 0.64312032\n",
      " 0.64337441 0.63803837 0.63308347 0.63321052 0.60983357 0.62736628\n",
      " 0.63244823 0.62876382 0.64324736 0.67678821 0.69432092 0.70168975\n",
      " 0.70867742 0.70588235 0.69978402 0.7060094  0.69393978 0.67412019\n",
      " 0.65010799 0.65798501 0.63537035 0.63537035 0.62190319 0.6681489\n",
      " 0.67234151 0.68415703 0.7109643  0.73357896 0.84042688 0.83953754\n",
      " 0.91792657 0.91347986 0.92999619 0.92122983 0.92681997 0.94473383\n",
      " 0.94193876 1.         0.86520137 0.86977512 0.90877906 0.9237708\n",
      " 0.92224622 0.96150426 0.96976242 0.82357788 0.82133722 0.80691063\n",
      " 0.78451467 0.75803888 0.73006964 0.70207119] 100\n",
      "7 day output [[0.6747992]]\n",
      "8 day input [0.7248126  0.75530428 0.72811587 0.72049295 0.6869521  0.69673485\n",
      " 0.68568162 0.68784144 0.6307966  0.55545674 0.59636641 0.60437047\n",
      " 0.63117774 0.61161225 0.64858341 0.65112438 0.63359167 0.63613264\n",
      " 0.6443908  0.65036209 0.65023504 0.63016135 0.592682   0.59763689\n",
      " 0.60970652 0.58836234 0.58505908 0.57565748 0.57667387 0.59573117\n",
      " 0.59064922 0.53766993 0.59077627 0.59598526 0.59306314 0.59573117\n",
      " 0.57985008 0.59331724 0.60691145 0.63384576 0.62253843 0.61466142\n",
      " 0.63714903 0.64388261 0.64553424 0.64273917 0.64312032 0.64337441\n",
      " 0.63803837 0.63308347 0.63321052 0.60983357 0.62736628 0.63244823\n",
      " 0.62876382 0.64324736 0.67678821 0.69432092 0.70168975 0.70867742\n",
      " 0.70588235 0.69978402 0.7060094  0.69393978 0.67412019 0.65010799\n",
      " 0.65798501 0.63537035 0.63537035 0.62190319 0.6681489  0.67234151\n",
      " 0.68415703 0.7109643  0.73357896 0.84042688 0.83953754 0.91792657\n",
      " 0.91347986 0.92999619 0.92122983 0.92681997 0.94473383 0.94193876\n",
      " 1.         0.86520137 0.86977512 0.90877906 0.9237708  0.92224622\n",
      " 0.96150426 0.96976242 0.82357788 0.82133722 0.80691063 0.78451467\n",
      " 0.75803888 0.73006964 0.70207119 0.6747992 ] 100\n",
      "8 day output [[0.6486366]]\n",
      "9 day input [0.75530428 0.72811587 0.72049295 0.6869521  0.69673485 0.68568162\n",
      " 0.68784144 0.6307966  0.55545674 0.59636641 0.60437047 0.63117774\n",
      " 0.61161225 0.64858341 0.65112438 0.63359167 0.63613264 0.6443908\n",
      " 0.65036209 0.65023504 0.63016135 0.592682   0.59763689 0.60970652\n",
      " 0.58836234 0.58505908 0.57565748 0.57667387 0.59573117 0.59064922\n",
      " 0.53766993 0.59077627 0.59598526 0.59306314 0.59573117 0.57985008\n",
      " 0.59331724 0.60691145 0.63384576 0.62253843 0.61466142 0.63714903\n",
      " 0.64388261 0.64553424 0.64273917 0.64312032 0.64337441 0.63803837\n",
      " 0.63308347 0.63321052 0.60983357 0.62736628 0.63244823 0.62876382\n",
      " 0.64324736 0.67678821 0.69432092 0.70168975 0.70867742 0.70588235\n",
      " 0.69978402 0.7060094  0.69393978 0.67412019 0.65010799 0.65798501\n",
      " 0.63537035 0.63537035 0.62190319 0.6681489  0.67234151 0.68415703\n",
      " 0.7109643  0.73357896 0.84042688 0.83953754 0.91792657 0.91347986\n",
      " 0.92999619 0.92122983 0.92681997 0.94473383 0.94193876 1.\n",
      " 0.86520137 0.86977512 0.90877906 0.9237708  0.92224622 0.96150426\n",
      " 0.96976242 0.82357788 0.82133722 0.80691063 0.78451467 0.75803888\n",
      " 0.73006964 0.70207119 0.6747992  0.64863658] 100\n",
      "9 day output [[0.62379146]]\n",
      "10 day input [0.72811587 0.72049295 0.6869521  0.69673485 0.68568162 0.68784144\n",
      " 0.6307966  0.55545674 0.59636641 0.60437047 0.63117774 0.61161225\n",
      " 0.64858341 0.65112438 0.63359167 0.63613264 0.6443908  0.65036209\n",
      " 0.65023504 0.63016135 0.592682   0.59763689 0.60970652 0.58836234\n",
      " 0.58505908 0.57565748 0.57667387 0.59573117 0.59064922 0.53766993\n",
      " 0.59077627 0.59598526 0.59306314 0.59573117 0.57985008 0.59331724\n",
      " 0.60691145 0.63384576 0.62253843 0.61466142 0.63714903 0.64388261\n",
      " 0.64553424 0.64273917 0.64312032 0.64337441 0.63803837 0.63308347\n",
      " 0.63321052 0.60983357 0.62736628 0.63244823 0.62876382 0.64324736\n",
      " 0.67678821 0.69432092 0.70168975 0.70867742 0.70588235 0.69978402\n",
      " 0.7060094  0.69393978 0.67412019 0.65010799 0.65798501 0.63537035\n",
      " 0.63537035 0.62190319 0.6681489  0.67234151 0.68415703 0.7109643\n",
      " 0.73357896 0.84042688 0.83953754 0.91792657 0.91347986 0.92999619\n",
      " 0.92122983 0.92681997 0.94473383 0.94193876 1.         0.86520137\n",
      " 0.86977512 0.90877906 0.9237708  0.92224622 0.96150426 0.96976242\n",
      " 0.82357788 0.82133722 0.80691063 0.78451467 0.75803888 0.73006964\n",
      " 0.70207119 0.6747992  0.64863658 0.62379146] 100\n"
     ]
    },
    {
     "name": "stdout",
     "output_type": "stream",
     "text": [
      "10 day output [[0.6003926]]\n",
      "11 day input [0.72049295 0.6869521  0.69673485 0.68568162 0.68784144 0.6307966\n",
      " 0.55545674 0.59636641 0.60437047 0.63117774 0.61161225 0.64858341\n",
      " 0.65112438 0.63359167 0.63613264 0.6443908  0.65036209 0.65023504\n",
      " 0.63016135 0.592682   0.59763689 0.60970652 0.58836234 0.58505908\n",
      " 0.57565748 0.57667387 0.59573117 0.59064922 0.53766993 0.59077627\n",
      " 0.59598526 0.59306314 0.59573117 0.57985008 0.59331724 0.60691145\n",
      " 0.63384576 0.62253843 0.61466142 0.63714903 0.64388261 0.64553424\n",
      " 0.64273917 0.64312032 0.64337441 0.63803837 0.63308347 0.63321052\n",
      " 0.60983357 0.62736628 0.63244823 0.62876382 0.64324736 0.67678821\n",
      " 0.69432092 0.70168975 0.70867742 0.70588235 0.69978402 0.7060094\n",
      " 0.69393978 0.67412019 0.65010799 0.65798501 0.63537035 0.63537035\n",
      " 0.62190319 0.6681489  0.67234151 0.68415703 0.7109643  0.73357896\n",
      " 0.84042688 0.83953754 0.91792657 0.91347986 0.92999619 0.92122983\n",
      " 0.92681997 0.94473383 0.94193876 1.         0.86520137 0.86977512\n",
      " 0.90877906 0.9237708  0.92224622 0.96150426 0.96976242 0.82357788\n",
      " 0.82133722 0.80691063 0.78451467 0.75803888 0.73006964 0.70207119\n",
      " 0.6747992  0.64863658 0.62379146 0.60039258] 100\n",
      "11 day output [[0.5785258]]\n",
      "12 day input [0.6869521  0.69673485 0.68568162 0.68784144 0.6307966  0.55545674\n",
      " 0.59636641 0.60437047 0.63117774 0.61161225 0.64858341 0.65112438\n",
      " 0.63359167 0.63613264 0.6443908  0.65036209 0.65023504 0.63016135\n",
      " 0.592682   0.59763689 0.60970652 0.58836234 0.58505908 0.57565748\n",
      " 0.57667387 0.59573117 0.59064922 0.53766993 0.59077627 0.59598526\n",
      " 0.59306314 0.59573117 0.57985008 0.59331724 0.60691145 0.63384576\n",
      " 0.62253843 0.61466142 0.63714903 0.64388261 0.64553424 0.64273917\n",
      " 0.64312032 0.64337441 0.63803837 0.63308347 0.63321052 0.60983357\n",
      " 0.62736628 0.63244823 0.62876382 0.64324736 0.67678821 0.69432092\n",
      " 0.70168975 0.70867742 0.70588235 0.69978402 0.7060094  0.69393978\n",
      " 0.67412019 0.65010799 0.65798501 0.63537035 0.63537035 0.62190319\n",
      " 0.6681489  0.67234151 0.68415703 0.7109643  0.73357896 0.84042688\n",
      " 0.83953754 0.91792657 0.91347986 0.92999619 0.92122983 0.92681997\n",
      " 0.94473383 0.94193876 1.         0.86520137 0.86977512 0.90877906\n",
      " 0.9237708  0.92224622 0.96150426 0.96976242 0.82357788 0.82133722\n",
      " 0.80691063 0.78451467 0.75803888 0.73006964 0.70207119 0.6747992\n",
      " 0.64863658 0.62379146 0.60039258 0.57852578] 100\n",
      "12 day output [[0.5582416]]\n",
      "13 day input [0.69673485 0.68568162 0.68784144 0.6307966  0.55545674 0.59636641\n",
      " 0.60437047 0.63117774 0.61161225 0.64858341 0.65112438 0.63359167\n",
      " 0.63613264 0.6443908  0.65036209 0.65023504 0.63016135 0.592682\n",
      " 0.59763689 0.60970652 0.58836234 0.58505908 0.57565748 0.57667387\n",
      " 0.59573117 0.59064922 0.53766993 0.59077627 0.59598526 0.59306314\n",
      " 0.59573117 0.57985008 0.59331724 0.60691145 0.63384576 0.62253843\n",
      " 0.61466142 0.63714903 0.64388261 0.64553424 0.64273917 0.64312032\n",
      " 0.64337441 0.63803837 0.63308347 0.63321052 0.60983357 0.62736628\n",
      " 0.63244823 0.62876382 0.64324736 0.67678821 0.69432092 0.70168975\n",
      " 0.70867742 0.70588235 0.69978402 0.7060094  0.69393978 0.67412019\n",
      " 0.65010799 0.65798501 0.63537035 0.63537035 0.62190319 0.6681489\n",
      " 0.67234151 0.68415703 0.7109643  0.73357896 0.84042688 0.83953754\n",
      " 0.91792657 0.91347986 0.92999619 0.92122983 0.92681997 0.94473383\n",
      " 0.94193876 1.         0.86520137 0.86977512 0.90877906 0.9237708\n",
      " 0.92224622 0.96150426 0.96976242 0.82357788 0.82133722 0.80691063\n",
      " 0.78451467 0.75803888 0.73006964 0.70207119 0.6747992  0.64863658\n",
      " 0.62379146 0.60039258 0.57852578 0.55824161] 100\n",
      "13 day output [[0.5395577]]\n",
      "14 day input [0.68568162 0.68784144 0.6307966  0.55545674 0.59636641 0.60437047\n",
      " 0.63117774 0.61161225 0.64858341 0.65112438 0.63359167 0.63613264\n",
      " 0.6443908  0.65036209 0.65023504 0.63016135 0.592682   0.59763689\n",
      " 0.60970652 0.58836234 0.58505908 0.57565748 0.57667387 0.59573117\n",
      " 0.59064922 0.53766993 0.59077627 0.59598526 0.59306314 0.59573117\n",
      " 0.57985008 0.59331724 0.60691145 0.63384576 0.62253843 0.61466142\n",
      " 0.63714903 0.64388261 0.64553424 0.64273917 0.64312032 0.64337441\n",
      " 0.63803837 0.63308347 0.63321052 0.60983357 0.62736628 0.63244823\n",
      " 0.62876382 0.64324736 0.67678821 0.69432092 0.70168975 0.70867742\n",
      " 0.70588235 0.69978402 0.7060094  0.69393978 0.67412019 0.65010799\n",
      " 0.65798501 0.63537035 0.63537035 0.62190319 0.6681489  0.67234151\n",
      " 0.68415703 0.7109643  0.73357896 0.84042688 0.83953754 0.91792657\n",
      " 0.91347986 0.92999619 0.92122983 0.92681997 0.94473383 0.94193876\n",
      " 1.         0.86520137 0.86977512 0.90877906 0.9237708  0.92224622\n",
      " 0.96150426 0.96976242 0.82357788 0.82133722 0.80691063 0.78451467\n",
      " 0.75803888 0.73006964 0.70207119 0.6747992  0.64863658 0.62379146\n",
      " 0.60039258 0.57852578 0.55824161 0.5395577 ] 100\n",
      "14 day output [[0.52245843]]\n",
      "15 day input [0.68784144 0.6307966  0.55545674 0.59636641 0.60437047 0.63117774\n",
      " 0.61161225 0.64858341 0.65112438 0.63359167 0.63613264 0.6443908\n",
      " 0.65036209 0.65023504 0.63016135 0.592682   0.59763689 0.60970652\n",
      " 0.58836234 0.58505908 0.57565748 0.57667387 0.59573117 0.59064922\n",
      " 0.53766993 0.59077627 0.59598526 0.59306314 0.59573117 0.57985008\n",
      " 0.59331724 0.60691145 0.63384576 0.62253843 0.61466142 0.63714903\n",
      " 0.64388261 0.64553424 0.64273917 0.64312032 0.64337441 0.63803837\n",
      " 0.63308347 0.63321052 0.60983357 0.62736628 0.63244823 0.62876382\n",
      " 0.64324736 0.67678821 0.69432092 0.70168975 0.70867742 0.70588235\n",
      " 0.69978402 0.7060094  0.69393978 0.67412019 0.65010799 0.65798501\n",
      " 0.63537035 0.63537035 0.62190319 0.6681489  0.67234151 0.68415703\n",
      " 0.7109643  0.73357896 0.84042688 0.83953754 0.91792657 0.91347986\n",
      " 0.92999619 0.92122983 0.92681997 0.94473383 0.94193876 1.\n",
      " 0.86520137 0.86977512 0.90877906 0.9237708  0.92224622 0.96150426\n",
      " 0.96976242 0.82357788 0.82133722 0.80691063 0.78451467 0.75803888\n",
      " 0.73006964 0.70207119 0.6747992  0.64863658 0.62379146 0.60039258\n",
      " 0.57852578 0.55824161 0.5395577  0.52245843] 100\n",
      "15 day output [[0.50689876]]\n",
      "16 day input [0.6307966  0.55545674 0.59636641 0.60437047 0.63117774 0.61161225\n",
      " 0.64858341 0.65112438 0.63359167 0.63613264 0.6443908  0.65036209\n",
      " 0.65023504 0.63016135 0.592682   0.59763689 0.60970652 0.58836234\n",
      " 0.58505908 0.57565748 0.57667387 0.59573117 0.59064922 0.53766993\n",
      " 0.59077627 0.59598526 0.59306314 0.59573117 0.57985008 0.59331724\n",
      " 0.60691145 0.63384576 0.62253843 0.61466142 0.63714903 0.64388261\n",
      " 0.64553424 0.64273917 0.64312032 0.64337441 0.63803837 0.63308347\n",
      " 0.63321052 0.60983357 0.62736628 0.63244823 0.62876382 0.64324736\n",
      " 0.67678821 0.69432092 0.70168975 0.70867742 0.70588235 0.69978402\n",
      " 0.7060094  0.69393978 0.67412019 0.65010799 0.65798501 0.63537035\n",
      " 0.63537035 0.62190319 0.6681489  0.67234151 0.68415703 0.7109643\n",
      " 0.73357896 0.84042688 0.83953754 0.91792657 0.91347986 0.92999619\n",
      " 0.92122983 0.92681997 0.94473383 0.94193876 1.         0.86520137\n",
      " 0.86977512 0.90877906 0.9237708  0.92224622 0.96150426 0.96976242\n",
      " 0.82357788 0.82133722 0.80691063 0.78451467 0.75803888 0.73006964\n",
      " 0.70207119 0.6747992  0.64863658 0.62379146 0.60039258 0.57852578\n",
      " 0.55824161 0.5395577  0.52245843 0.50689876] 100\n",
      "16 day output [[0.4928072]]\n",
      "17 day input [0.55545674 0.59636641 0.60437047 0.63117774 0.61161225 0.64858341\n",
      " 0.65112438 0.63359167 0.63613264 0.6443908  0.65036209 0.65023504\n",
      " 0.63016135 0.592682   0.59763689 0.60970652 0.58836234 0.58505908\n",
      " 0.57565748 0.57667387 0.59573117 0.59064922 0.53766993 0.59077627\n",
      " 0.59598526 0.59306314 0.59573117 0.57985008 0.59331724 0.60691145\n",
      " 0.63384576 0.62253843 0.61466142 0.63714903 0.64388261 0.64553424\n",
      " 0.64273917 0.64312032 0.64337441 0.63803837 0.63308347 0.63321052\n",
      " 0.60983357 0.62736628 0.63244823 0.62876382 0.64324736 0.67678821\n",
      " 0.69432092 0.70168975 0.70867742 0.70588235 0.69978402 0.7060094\n",
      " 0.69393978 0.67412019 0.65010799 0.65798501 0.63537035 0.63537035\n",
      " 0.62190319 0.6681489  0.67234151 0.68415703 0.7109643  0.73357896\n",
      " 0.84042688 0.83953754 0.91792657 0.91347986 0.92999619 0.92122983\n",
      " 0.92681997 0.94473383 0.94193876 1.         0.86520137 0.86977512\n",
      " 0.90877906 0.9237708  0.92224622 0.96150426 0.96976242 0.82357788\n",
      " 0.82133722 0.80691063 0.78451467 0.75803888 0.73006964 0.70207119\n",
      " 0.6747992  0.64863658 0.62379146 0.60039258 0.57852578 0.55824161\n",
      " 0.5395577  0.52245843 0.50689876 0.49280721] 100\n",
      "17 day output [[0.48009214]]\n",
      "18 day input [0.59636641 0.60437047 0.63117774 0.61161225 0.64858341 0.65112438\n",
      " 0.63359167 0.63613264 0.6443908  0.65036209 0.65023504 0.63016135\n",
      " 0.592682   0.59763689 0.60970652 0.58836234 0.58505908 0.57565748\n",
      " 0.57667387 0.59573117 0.59064922 0.53766993 0.59077627 0.59598526\n",
      " 0.59306314 0.59573117 0.57985008 0.59331724 0.60691145 0.63384576\n",
      " 0.62253843 0.61466142 0.63714903 0.64388261 0.64553424 0.64273917\n",
      " 0.64312032 0.64337441 0.63803837 0.63308347 0.63321052 0.60983357\n",
      " 0.62736628 0.63244823 0.62876382 0.64324736 0.67678821 0.69432092\n",
      " 0.70168975 0.70867742 0.70588235 0.69978402 0.7060094  0.69393978\n",
      " 0.67412019 0.65010799 0.65798501 0.63537035 0.63537035 0.62190319\n",
      " 0.6681489  0.67234151 0.68415703 0.7109643  0.73357896 0.84042688\n",
      " 0.83953754 0.91792657 0.91347986 0.92999619 0.92122983 0.92681997\n",
      " 0.94473383 0.94193876 1.         0.86520137 0.86977512 0.90877906\n",
      " 0.9237708  0.92224622 0.96150426 0.96976242 0.82357788 0.82133722\n",
      " 0.80691063 0.78451467 0.75803888 0.73006964 0.70207119 0.6747992\n",
      " 0.64863658 0.62379146 0.60039258 0.57852578 0.55824161 0.5395577\n",
      " 0.52245843 0.50689876 0.49280721 0.48009214] 100\n",
      "18 day output [[0.46864712]]\n",
      "19 day input [0.60437047 0.63117774 0.61161225 0.64858341 0.65112438 0.63359167\n",
      " 0.63613264 0.6443908  0.65036209 0.65023504 0.63016135 0.592682\n",
      " 0.59763689 0.60970652 0.58836234 0.58505908 0.57565748 0.57667387\n",
      " 0.59573117 0.59064922 0.53766993 0.59077627 0.59598526 0.59306314\n",
      " 0.59573117 0.57985008 0.59331724 0.60691145 0.63384576 0.62253843\n",
      " 0.61466142 0.63714903 0.64388261 0.64553424 0.64273917 0.64312032\n",
      " 0.64337441 0.63803837 0.63308347 0.63321052 0.60983357 0.62736628\n",
      " 0.63244823 0.62876382 0.64324736 0.67678821 0.69432092 0.70168975\n",
      " 0.70867742 0.70588235 0.69978402 0.7060094  0.69393978 0.67412019\n",
      " 0.65010799 0.65798501 0.63537035 0.63537035 0.62190319 0.6681489\n",
      " 0.67234151 0.68415703 0.7109643  0.73357896 0.84042688 0.83953754\n",
      " 0.91792657 0.91347986 0.92999619 0.92122983 0.92681997 0.94473383\n",
      " 0.94193876 1.         0.86520137 0.86977512 0.90877906 0.9237708\n",
      " 0.92224622 0.96150426 0.96976242 0.82357788 0.82133722 0.80691063\n",
      " 0.78451467 0.75803888 0.73006964 0.70207119 0.6747992  0.64863658\n",
      " 0.62379146 0.60039258 0.57852578 0.55824161 0.5395577  0.52245843\n",
      " 0.50689876 0.49280721 0.48009214 0.46864712] 100\n",
      "19 day output [[0.4583557]]\n",
      "20 day input [0.63117774 0.61161225 0.64858341 0.65112438 0.63359167 0.63613264\n",
      " 0.6443908  0.65036209 0.65023504 0.63016135 0.592682   0.59763689\n",
      " 0.60970652 0.58836234 0.58505908 0.57565748 0.57667387 0.59573117\n",
      " 0.59064922 0.53766993 0.59077627 0.59598526 0.59306314 0.59573117\n",
      " 0.57985008 0.59331724 0.60691145 0.63384576 0.62253843 0.61466142\n",
      " 0.63714903 0.64388261 0.64553424 0.64273917 0.64312032 0.64337441\n",
      " 0.63803837 0.63308347 0.63321052 0.60983357 0.62736628 0.63244823\n",
      " 0.62876382 0.64324736 0.67678821 0.69432092 0.70168975 0.70867742\n",
      " 0.70588235 0.69978402 0.7060094  0.69393978 0.67412019 0.65010799\n",
      " 0.65798501 0.63537035 0.63537035 0.62190319 0.6681489  0.67234151\n",
      " 0.68415703 0.7109643  0.73357896 0.84042688 0.83953754 0.91792657\n",
      " 0.91347986 0.92999619 0.92122983 0.92681997 0.94473383 0.94193876\n",
      " 1.         0.86520137 0.86977512 0.90877906 0.9237708  0.92224622\n",
      " 0.96150426 0.96976242 0.82357788 0.82133722 0.80691063 0.78451467\n",
      " 0.75803888 0.73006964 0.70207119 0.6747992  0.64863658 0.62379146\n",
      " 0.60039258 0.57852578 0.55824161 0.5395577  0.52245843 0.50689876\n",
      " 0.49280721 0.48009214 0.46864712 0.4583557 ] 100\n"
     ]
    },
    {
     "name": "stdout",
     "output_type": "stream",
     "text": [
      "20 day output [[0.44909656]]\n",
      "21 day input [0.61161225 0.64858341 0.65112438 0.63359167 0.63613264 0.6443908\n",
      " 0.65036209 0.65023504 0.63016135 0.592682   0.59763689 0.60970652\n",
      " 0.58836234 0.58505908 0.57565748 0.57667387 0.59573117 0.59064922\n",
      " 0.53766993 0.59077627 0.59598526 0.59306314 0.59573117 0.57985008\n",
      " 0.59331724 0.60691145 0.63384576 0.62253843 0.61466142 0.63714903\n",
      " 0.64388261 0.64553424 0.64273917 0.64312032 0.64337441 0.63803837\n",
      " 0.63308347 0.63321052 0.60983357 0.62736628 0.63244823 0.62876382\n",
      " 0.64324736 0.67678821 0.69432092 0.70168975 0.70867742 0.70588235\n",
      " 0.69978402 0.7060094  0.69393978 0.67412019 0.65010799 0.65798501\n",
      " 0.63537035 0.63537035 0.62190319 0.6681489  0.67234151 0.68415703\n",
      " 0.7109643  0.73357896 0.84042688 0.83953754 0.91792657 0.91347986\n",
      " 0.92999619 0.92122983 0.92681997 0.94473383 0.94193876 1.\n",
      " 0.86520137 0.86977512 0.90877906 0.9237708  0.92224622 0.96150426\n",
      " 0.96976242 0.82357788 0.82133722 0.80691063 0.78451467 0.75803888\n",
      " 0.73006964 0.70207119 0.6747992  0.64863658 0.62379146 0.60039258\n",
      " 0.57852578 0.55824161 0.5395577  0.52245843 0.50689876 0.49280721\n",
      " 0.48009214 0.46864712 0.4583557  0.44909656] 100\n",
      "21 day output [[0.44074753]]\n",
      "22 day input [0.64858341 0.65112438 0.63359167 0.63613264 0.6443908  0.65036209\n",
      " 0.65023504 0.63016135 0.592682   0.59763689 0.60970652 0.58836234\n",
      " 0.58505908 0.57565748 0.57667387 0.59573117 0.59064922 0.53766993\n",
      " 0.59077627 0.59598526 0.59306314 0.59573117 0.57985008 0.59331724\n",
      " 0.60691145 0.63384576 0.62253843 0.61466142 0.63714903 0.64388261\n",
      " 0.64553424 0.64273917 0.64312032 0.64337441 0.63803837 0.63308347\n",
      " 0.63321052 0.60983357 0.62736628 0.63244823 0.62876382 0.64324736\n",
      " 0.67678821 0.69432092 0.70168975 0.70867742 0.70588235 0.69978402\n",
      " 0.7060094  0.69393978 0.67412019 0.65010799 0.65798501 0.63537035\n",
      " 0.63537035 0.62190319 0.6681489  0.67234151 0.68415703 0.7109643\n",
      " 0.73357896 0.84042688 0.83953754 0.91792657 0.91347986 0.92999619\n",
      " 0.92122983 0.92681997 0.94473383 0.94193876 1.         0.86520137\n",
      " 0.86977512 0.90877906 0.9237708  0.92224622 0.96150426 0.96976242\n",
      " 0.82357788 0.82133722 0.80691063 0.78451467 0.75803888 0.73006964\n",
      " 0.70207119 0.6747992  0.64863658 0.62379146 0.60039258 0.57852578\n",
      " 0.55824161 0.5395577  0.52245843 0.50689876 0.49280721 0.48009214\n",
      " 0.46864712 0.4583557  0.44909656 0.44074753] 100\n",
      "22 day output [[0.43318892]]\n",
      "23 day input [0.65112438 0.63359167 0.63613264 0.6443908  0.65036209 0.65023504\n",
      " 0.63016135 0.592682   0.59763689 0.60970652 0.58836234 0.58505908\n",
      " 0.57565748 0.57667387 0.59573117 0.59064922 0.53766993 0.59077627\n",
      " 0.59598526 0.59306314 0.59573117 0.57985008 0.59331724 0.60691145\n",
      " 0.63384576 0.62253843 0.61466142 0.63714903 0.64388261 0.64553424\n",
      " 0.64273917 0.64312032 0.64337441 0.63803837 0.63308347 0.63321052\n",
      " 0.60983357 0.62736628 0.63244823 0.62876382 0.64324736 0.67678821\n",
      " 0.69432092 0.70168975 0.70867742 0.70588235 0.69978402 0.7060094\n",
      " 0.69393978 0.67412019 0.65010799 0.65798501 0.63537035 0.63537035\n",
      " 0.62190319 0.6681489  0.67234151 0.68415703 0.7109643  0.73357896\n",
      " 0.84042688 0.83953754 0.91792657 0.91347986 0.92999619 0.92122983\n",
      " 0.92681997 0.94473383 0.94193876 1.         0.86520137 0.86977512\n",
      " 0.90877906 0.9237708  0.92224622 0.96150426 0.96976242 0.82357788\n",
      " 0.82133722 0.80691063 0.78451467 0.75803888 0.73006964 0.70207119\n",
      " 0.6747992  0.64863658 0.62379146 0.60039258 0.57852578 0.55824161\n",
      " 0.5395577  0.52245843 0.50689876 0.49280721 0.48009214 0.46864712\n",
      " 0.4583557  0.44909656 0.44074753 0.43318892] 100\n",
      "23 day output [[0.42630613]]\n",
      "24 day input [0.63359167 0.63613264 0.6443908  0.65036209 0.65023504 0.63016135\n",
      " 0.592682   0.59763689 0.60970652 0.58836234 0.58505908 0.57565748\n",
      " 0.57667387 0.59573117 0.59064922 0.53766993 0.59077627 0.59598526\n",
      " 0.59306314 0.59573117 0.57985008 0.59331724 0.60691145 0.63384576\n",
      " 0.62253843 0.61466142 0.63714903 0.64388261 0.64553424 0.64273917\n",
      " 0.64312032 0.64337441 0.63803837 0.63308347 0.63321052 0.60983357\n",
      " 0.62736628 0.63244823 0.62876382 0.64324736 0.67678821 0.69432092\n",
      " 0.70168975 0.70867742 0.70588235 0.69978402 0.7060094  0.69393978\n",
      " 0.67412019 0.65010799 0.65798501 0.63537035 0.63537035 0.62190319\n",
      " 0.6681489  0.67234151 0.68415703 0.7109643  0.73357896 0.84042688\n",
      " 0.83953754 0.91792657 0.91347986 0.92999619 0.92122983 0.92681997\n",
      " 0.94473383 0.94193876 1.         0.86520137 0.86977512 0.90877906\n",
      " 0.9237708  0.92224622 0.96150426 0.96976242 0.82357788 0.82133722\n",
      " 0.80691063 0.78451467 0.75803888 0.73006964 0.70207119 0.6747992\n",
      " 0.64863658 0.62379146 0.60039258 0.57852578 0.55824161 0.5395577\n",
      " 0.52245843 0.50689876 0.49280721 0.48009214 0.46864712 0.4583557\n",
      " 0.44909656 0.44074753 0.43318892 0.42630613] 100\n",
      "24 day output [[0.4199921]]\n",
      "25 day input [0.63613264 0.6443908  0.65036209 0.65023504 0.63016135 0.592682\n",
      " 0.59763689 0.60970652 0.58836234 0.58505908 0.57565748 0.57667387\n",
      " 0.59573117 0.59064922 0.53766993 0.59077627 0.59598526 0.59306314\n",
      " 0.59573117 0.57985008 0.59331724 0.60691145 0.63384576 0.62253843\n",
      " 0.61466142 0.63714903 0.64388261 0.64553424 0.64273917 0.64312032\n",
      " 0.64337441 0.63803837 0.63308347 0.63321052 0.60983357 0.62736628\n",
      " 0.63244823 0.62876382 0.64324736 0.67678821 0.69432092 0.70168975\n",
      " 0.70867742 0.70588235 0.69978402 0.7060094  0.69393978 0.67412019\n",
      " 0.65010799 0.65798501 0.63537035 0.63537035 0.62190319 0.6681489\n",
      " 0.67234151 0.68415703 0.7109643  0.73357896 0.84042688 0.83953754\n",
      " 0.91792657 0.91347986 0.92999619 0.92122983 0.92681997 0.94473383\n",
      " 0.94193876 1.         0.86520137 0.86977512 0.90877906 0.9237708\n",
      " 0.92224622 0.96150426 0.96976242 0.82357788 0.82133722 0.80691063\n",
      " 0.78451467 0.75803888 0.73006964 0.70207119 0.6747992  0.64863658\n",
      " 0.62379146 0.60039258 0.57852578 0.55824161 0.5395577  0.52245843\n",
      " 0.50689876 0.49280721 0.48009214 0.46864712 0.4583557  0.44909656\n",
      " 0.44074753 0.43318892 0.42630613 0.41999209] 100\n",
      "25 day output [[0.41414842]]\n",
      "26 day input [0.6443908  0.65036209 0.65023504 0.63016135 0.592682   0.59763689\n",
      " 0.60970652 0.58836234 0.58505908 0.57565748 0.57667387 0.59573117\n",
      " 0.59064922 0.53766993 0.59077627 0.59598526 0.59306314 0.59573117\n",
      " 0.57985008 0.59331724 0.60691145 0.63384576 0.62253843 0.61466142\n",
      " 0.63714903 0.64388261 0.64553424 0.64273917 0.64312032 0.64337441\n",
      " 0.63803837 0.63308347 0.63321052 0.60983357 0.62736628 0.63244823\n",
      " 0.62876382 0.64324736 0.67678821 0.69432092 0.70168975 0.70867742\n",
      " 0.70588235 0.69978402 0.7060094  0.69393978 0.67412019 0.65010799\n",
      " 0.65798501 0.63537035 0.63537035 0.62190319 0.6681489  0.67234151\n",
      " 0.68415703 0.7109643  0.73357896 0.84042688 0.83953754 0.91792657\n",
      " 0.91347986 0.92999619 0.92122983 0.92681997 0.94473383 0.94193876\n",
      " 1.         0.86520137 0.86977512 0.90877906 0.9237708  0.92224622\n",
      " 0.96150426 0.96976242 0.82357788 0.82133722 0.80691063 0.78451467\n",
      " 0.75803888 0.73006964 0.70207119 0.6747992  0.64863658 0.62379146\n",
      " 0.60039258 0.57852578 0.55824161 0.5395577  0.52245843 0.50689876\n",
      " 0.49280721 0.48009214 0.46864712 0.4583557  0.44909656 0.44074753\n",
      " 0.43318892 0.42630613 0.41999209 0.41414842] 100\n",
      "26 day output [[0.4086869]]\n",
      "27 day input [0.65036209 0.65023504 0.63016135 0.592682   0.59763689 0.60970652\n",
      " 0.58836234 0.58505908 0.57565748 0.57667387 0.59573117 0.59064922\n",
      " 0.53766993 0.59077627 0.59598526 0.59306314 0.59573117 0.57985008\n",
      " 0.59331724 0.60691145 0.63384576 0.62253843 0.61466142 0.63714903\n",
      " 0.64388261 0.64553424 0.64273917 0.64312032 0.64337441 0.63803837\n",
      " 0.63308347 0.63321052 0.60983357 0.62736628 0.63244823 0.62876382\n",
      " 0.64324736 0.67678821 0.69432092 0.70168975 0.70867742 0.70588235\n",
      " 0.69978402 0.7060094  0.69393978 0.67412019 0.65010799 0.65798501\n",
      " 0.63537035 0.63537035 0.62190319 0.6681489  0.67234151 0.68415703\n",
      " 0.7109643  0.73357896 0.84042688 0.83953754 0.91792657 0.91347986\n",
      " 0.92999619 0.92122983 0.92681997 0.94473383 0.94193876 1.\n",
      " 0.86520137 0.86977512 0.90877906 0.9237708  0.92224622 0.96150426\n",
      " 0.96976242 0.82357788 0.82133722 0.80691063 0.78451467 0.75803888\n",
      " 0.73006964 0.70207119 0.6747992  0.64863658 0.62379146 0.60039258\n",
      " 0.57852578 0.55824161 0.5395577  0.52245843 0.50689876 0.49280721\n",
      " 0.48009214 0.46864712 0.4583557  0.44909656 0.44074753 0.43318892\n",
      " 0.42630613 0.41999209 0.41414842 0.40868691] 100\n",
      "27 day output [[0.4035296]]\n",
      "28 day input [0.65023504 0.63016135 0.592682   0.59763689 0.60970652 0.58836234\n",
      " 0.58505908 0.57565748 0.57667387 0.59573117 0.59064922 0.53766993\n",
      " 0.59077627 0.59598526 0.59306314 0.59573117 0.57985008 0.59331724\n",
      " 0.60691145 0.63384576 0.62253843 0.61466142 0.63714903 0.64388261\n",
      " 0.64553424 0.64273917 0.64312032 0.64337441 0.63803837 0.63308347\n",
      " 0.63321052 0.60983357 0.62736628 0.63244823 0.62876382 0.64324736\n",
      " 0.67678821 0.69432092 0.70168975 0.70867742 0.70588235 0.69978402\n",
      " 0.7060094  0.69393978 0.67412019 0.65010799 0.65798501 0.63537035\n",
      " 0.63537035 0.62190319 0.6681489  0.67234151 0.68415703 0.7109643\n",
      " 0.73357896 0.84042688 0.83953754 0.91792657 0.91347986 0.92999619\n",
      " 0.92122983 0.92681997 0.94473383 0.94193876 1.         0.86520137\n",
      " 0.86977512 0.90877906 0.9237708  0.92224622 0.96150426 0.96976242\n",
      " 0.82357788 0.82133722 0.80691063 0.78451467 0.75803888 0.73006964\n",
      " 0.70207119 0.6747992  0.64863658 0.62379146 0.60039258 0.57852578\n",
      " 0.55824161 0.5395577  0.52245843 0.50689876 0.49280721 0.48009214\n",
      " 0.46864712 0.4583557  0.44909656 0.44074753 0.43318892 0.42630613\n",
      " 0.41999209 0.41414842 0.40868691 0.40352961] 100\n",
      "28 day output [[0.39860943]]\n",
      "29 day input [0.63016135 0.592682   0.59763689 0.60970652 0.58836234 0.58505908\n",
      " 0.57565748 0.57667387 0.59573117 0.59064922 0.53766993 0.59077627\n",
      " 0.59598526 0.59306314 0.59573117 0.57985008 0.59331724 0.60691145\n",
      " 0.63384576 0.62253843 0.61466142 0.63714903 0.64388261 0.64553424\n",
      " 0.64273917 0.64312032 0.64337441 0.63803837 0.63308347 0.63321052\n",
      " 0.60983357 0.62736628 0.63244823 0.62876382 0.64324736 0.67678821\n",
      " 0.69432092 0.70168975 0.70867742 0.70588235 0.69978402 0.7060094\n",
      " 0.69393978 0.67412019 0.65010799 0.65798501 0.63537035 0.63537035\n",
      " 0.62190319 0.6681489  0.67234151 0.68415703 0.7109643  0.73357896\n",
      " 0.84042688 0.83953754 0.91792657 0.91347986 0.92999619 0.92122983\n",
      " 0.92681997 0.94473383 0.94193876 1.         0.86520137 0.86977512\n",
      " 0.90877906 0.9237708  0.92224622 0.96150426 0.96976242 0.82357788\n",
      " 0.82133722 0.80691063 0.78451467 0.75803888 0.73006964 0.70207119\n",
      " 0.6747992  0.64863658 0.62379146 0.60039258 0.57852578 0.55824161\n",
      " 0.5395577  0.52245843 0.50689876 0.49280721 0.48009214 0.46864712\n",
      " 0.4583557  0.44909656 0.44074753 0.43318892 0.42630613 0.41999209\n",
      " 0.41414842 0.40868691 0.40352961 0.39860943] 100\n"
     ]
    },
    {
     "name": "stdout",
     "output_type": "stream",
     "text": [
      "29 day output [[0.3938698]]\n",
      "[[0.823577880859375], [0.8213372230529785], [0.8069106340408325], [0.7845146656036377], [0.7580388784408569], [0.730069637298584], [0.7020711898803711], [0.6747992038726807], [0.6486365795135498], [0.6237914562225342], [0.6003925800323486], [0.5785257816314697], [0.558241605758667], [0.539557695388794], [0.5224584341049194], [0.5068987607955933], [0.49280720949172974], [0.4800921380519867], [0.4686471223831177], [0.45835569500923157], [0.44909656047821045], [0.44074752926826477], [0.43318891525268555], [0.4263061285018921], [0.4199920892715454], [0.4141484200954437], [0.40868690609931946], [0.4035296142101288], [0.3986094295978546], [0.3938697874546051]]\n"
     ]
    }
   ],
   "source": [
    "from numpy import array\n",
    "\n",
    "lst_output=[]\n",
    "n_steps=100\n",
    "i=0\n",
    "while(i<30):\n",
    "    \n",
    "    if(len(temp_input)>100):\n",
    "        #print(temp_input)\n",
    "        x_input=np.array(temp_input[1:])\n",
    "        print(\"{} day input {}\".format(i,x_input),len(x_input))\n",
    "        x_input=x_input.reshape(1,-1)\n",
    "        x_input = x_input.reshape((1, n_steps, 1))\n",
    "        #print(x_input)\n",
    "        yhat = model.predict(x_input, verbose=0)\n",
    "        print(\"{} day output {}\".format(i,yhat))\n",
    "        temp_input.extend(yhat[0].tolist())\n",
    "        temp_input=temp_input[1:]\n",
    "        #print(temp_input)\n",
    "        lst_output.extend(yhat.tolist())\n",
    "        i=i+1\n",
    "    else:\n",
    "        x_input = x_input.reshape((1, n_steps,1))\n",
    "        yhat = model.predict(x_input, verbose=0)\n",
    "        print(yhat[0])\n",
    "        temp_input.extend(yhat[0].tolist())\n",
    "        print(len(temp_input))\n",
    "        lst_output.extend(yhat.tolist())\n",
    "        i=i+1\n",
    "    \n",
    "\n",
    "print(lst_output)"
   ]
  },
  {
   "cell_type": "code",
   "execution_count": null,
   "id": "a5d664a3",
   "metadata": {},
   "outputs": [],
   "source": []
  },
  {
   "cell_type": "code",
   "execution_count": 83,
   "id": "0312dc3a",
   "metadata": {},
   "outputs": [],
   "source": [
    "day_new=np.arange(1,101)\n",
    "day_pred=np.arange(101,131)"
   ]
  },
  {
   "cell_type": "code",
   "execution_count": 85,
   "id": "bd45a0fa",
   "metadata": {},
   "outputs": [
    {
     "data": {
      "text/plain": [
       "1105"
      ]
     },
     "execution_count": 85,
     "metadata": {},
     "output_type": "execute_result"
    }
   ],
   "source": [
    "len(df1)"
   ]
  },
  {
   "cell_type": "code",
   "execution_count": 86,
   "id": "bcd01a2b",
   "metadata": {},
   "outputs": [
    {
     "data": {
      "text/plain": [
       "[<matplotlib.lines.Line2D at 0x26f5ed0b0d0>]"
      ]
     },
     "execution_count": 86,
     "metadata": {},
     "output_type": "execute_result"
    },
    {
     "data": {
      "image/png": "[encoded data removed]",
      "text/plain": [
       "<Figure size 640x480 with 1 Axes>"
      ]
     },
     "metadata": {},
     "output_type": "display_data"
    }
   ],
   "source": [
    "plt.plot(day_new,scaler.inverse_transform(df1[1005:]))\n",
    "plt.plot(day_pred,scaler.inverse_transform(lst_output))"
   ]
  },
  {
   "cell_type": "code",
   "execution_count": 89,
   "id": "8e0e07f5",
   "metadata": {},
   "outputs": [
    {
     "data": {
      "text/plain": [
       "[<matplotlib.lines.Line2D at 0x26f5fdc53d0>]"
      ]
     },
     "execution_count": 89,
     "metadata": {},
     "output_type": "execute_result"
    },
    {
     "data": {
      "image/png": "[encoded data removed]",
      "text/plain": [
       "<Figure size 640x480 with 1 Axes>"
      ]
     },
     "metadata": {},
     "output_type": "display_data"
    }
   ],
   "source": [
    "df3=df1.tolist()\n",
    "df3.extend(lst_output)\n",
    "plt.plot(df3[200:])"
   ]
  },
  {
   "cell_type": "code",
   "execution_count": null,
   "id": "488926b8",
   "metadata": {},
   "outputs": [],
   "source": []
  }
 ],
 "metadata": {
  "kernelspec": {
   "display_name": "Python 3 (ipykernel)",
   "language": "python",
   "name": "python3"
  },
  "language_info": {
   "codemirror_mode": {
    "name": "ipython",
    "version": 3
   },
   "file_extension": ".py",
   "mimetype": "text/x-python",
   "name": "python",
   "nbconvert_exporter": "python",
   "pygments_lexer": "ipython3",
   "version": "3.11.5"
  }
 },
 "nbformat": 4,
 "nbformat_minor": 5
}
