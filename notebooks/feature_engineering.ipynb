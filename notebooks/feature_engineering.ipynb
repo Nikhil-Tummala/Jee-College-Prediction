{
 "cells": [
  {
   "cell_type": "code",
   "execution_count": 1,
   "id": "57f72d76",
   "metadata": {},
   "outputs": [],
   "source": [
    "import pandas as pd\n",
    "import numpy as np"
   ]
  },
  {
   "cell_type": "code",
   "execution_count": 26,
   "id": "c2df48c1",
   "metadata": {},
   "outputs": [],
   "source": [
    "import scrapy"
   ]
  },
  {
   "cell_type": "code",
   "execution_count": 27,
   "id": "9db97c68",
   "metadata": {},
   "outputs": [],
   "source": [
    "from scrapy.utils.response import open_in_browser"
   ]
  },
  {
   "cell_type": "code",
   "execution_count": 28,
   "id": "c9796038",
   "metadata": {},
   "outputs": [],
   "source": [
    "class PricesSpider(scrapy.Spider):\n",
    "    name=\"prices\"\n",
    "    \n",
    "    start_urls=[\"https://josaa.admissions.nic.in/applicant/SeatAllotmentResult/CurrentORCR.aspx\"]\n",
    "    \n",
    "    def parse(self,response):\n",
    "        open_in_browser(response)"
   ]
  },
  {
   "cell_type": "code",
   "execution_count": 29,
   "id": "ae35b090",
   "metadata": {},
   "outputs": [],
   "source": [
    "df=pd.read_csv(r\"D:\\SEM6\\LSTM\\josaa\\data_0.csv\")"
   ]
  },
  {
   "cell_type": "code",
   "execution_count": 31,
   "id": "3066c6bd",
   "metadata": {},
   "outputs": [
    {
     "name": "stdout",
     "output_type": "stream",
     "text": [
      "<class 'pandas.core.frame.DataFrame'>\n",
      "RangeIndex: 11687 entries, 0 to 11686\n",
      "Data columns (total 8 columns):\n",
      " #   Column                 Non-Null Count  Dtype \n",
      "---  ------                 --------------  ----- \n",
      " 0   Unnamed: 0             11687 non-null  int64 \n",
      " 1   Institute              11687 non-null  object\n",
      " 2   Academic Program Name  11687 non-null  object\n",
      " 3   Quota                  11687 non-null  object\n",
      " 4   Seat Type              11687 non-null  object\n",
      " 5   Gender                 11687 non-null  object\n",
      " 6   Opening Rank           11687 non-null  object\n",
      " 7   Closing Rank           11687 non-null  object\n",
      "dtypes: int64(1), object(7)\n",
      "memory usage: 730.6+ KB\n"
     ]
    }
   ],
   "source": [
    "df.info()"
   ]
  },
  {
   "cell_type": "code",
   "execution_count": 32,
   "id": "6bdb6f12",
   "metadata": {},
   "outputs": [
    {
     "data": {
      "text/html": [
       "<div>\n",
       "<style scoped>\n",
       "    .dataframe tbody tr th:only-of-type {\n",
       "        vertical-align: middle;\n",
       "    }\n",
       "\n",
       "    .dataframe tbody tr th {\n",
       "        vertical-align: top;\n",
       "    }\n",
       "\n",
       "    .dataframe thead th {\n",
       "        text-align: right;\n",
       "    }\n",
       "</style>\n",
       "<table border=\"1\" class=\"dataframe\">\n",
       "  <thead>\n",
       "    <tr style=\"text-align: right;\">\n",
       "      <th></th>\n",
       "      <th>Unnamed: 0</th>\n",
       "      <th>Institute</th>\n",
       "      <th>Academic Program Name</th>\n",
       "      <th>Quota</th>\n",
       "      <th>Seat Type</th>\n",
       "      <th>Gender</th>\n",
       "      <th>Opening Rank</th>\n",
       "      <th>Closing Rank</th>\n",
       "    </tr>\n",
       "  </thead>\n",
       "  <tbody>\n",
       "    <tr>\n",
       "      <th>0</th>\n",
       "      <td>0</td>\n",
       "      <td>Indian Institute of Technology Bhubaneswar</td>\n",
       "      <td>Civil Engineering (4 Years, Bachelor of Techno...</td>\n",
       "      <td>AI</td>\n",
       "      <td>OPEN</td>\n",
       "      <td>Gender-Neutral</td>\n",
       "      <td>9106</td>\n",
       "      <td>13018</td>\n",
       "    </tr>\n",
       "    <tr>\n",
       "      <th>1</th>\n",
       "      <td>1</td>\n",
       "      <td>Indian Institute of Technology Bhubaneswar</td>\n",
       "      <td>Civil Engineering (4 Years, Bachelor of Techno...</td>\n",
       "      <td>AI</td>\n",
       "      <td>OPEN</td>\n",
       "      <td>Female-only (including Supernumerary)</td>\n",
       "      <td>18286</td>\n",
       "      <td>20788</td>\n",
       "    </tr>\n",
       "    <tr>\n",
       "      <th>2</th>\n",
       "      <td>2</td>\n",
       "      <td>Indian Institute of Technology Bhubaneswar</td>\n",
       "      <td>Civil Engineering (4 Years, Bachelor of Techno...</td>\n",
       "      <td>AI</td>\n",
       "      <td>EWS</td>\n",
       "      <td>Gender-Neutral</td>\n",
       "      <td>1755</td>\n",
       "      <td>1975</td>\n",
       "    </tr>\n",
       "    <tr>\n",
       "      <th>3</th>\n",
       "      <td>3</td>\n",
       "      <td>Indian Institute of Technology Bhubaneswar</td>\n",
       "      <td>Civil Engineering (4 Years, Bachelor of Techno...</td>\n",
       "      <td>AI</td>\n",
       "      <td>EWS</td>\n",
       "      <td>Female-only (including Supernumerary)</td>\n",
       "      <td>3122</td>\n",
       "      <td>3308</td>\n",
       "    </tr>\n",
       "    <tr>\n",
       "      <th>4</th>\n",
       "      <td>4</td>\n",
       "      <td>Indian Institute of Technology Bhubaneswar</td>\n",
       "      <td>Civil Engineering (4 Years, Bachelor of Techno...</td>\n",
       "      <td>AI</td>\n",
       "      <td>OBC-NCL</td>\n",
       "      <td>Gender-Neutral</td>\n",
       "      <td>3573</td>\n",
       "      <td>4796</td>\n",
       "    </tr>\n",
       "  </tbody>\n",
       "</table>\n",
       "</div>"
      ],
      "text/plain": [
       "   Unnamed: 0                                   Institute  \\\n",
       "0           0  Indian Institute of Technology Bhubaneswar   \n",
       "1           1  Indian Institute of Technology Bhubaneswar   \n",
       "2           2  Indian Institute of Technology Bhubaneswar   \n",
       "3           3  Indian Institute of Technology Bhubaneswar   \n",
       "4           4  Indian Institute of Technology Bhubaneswar   \n",
       "\n",
       "                               Academic Program Name Quota Seat Type  \\\n",
       "0  Civil Engineering (4 Years, Bachelor of Techno...    AI      OPEN   \n",
       "1  Civil Engineering (4 Years, Bachelor of Techno...    AI      OPEN   \n",
       "2  Civil Engineering (4 Years, Bachelor of Techno...    AI       EWS   \n",
       "3  Civil Engineering (4 Years, Bachelor of Techno...    AI       EWS   \n",
       "4  Civil Engineering (4 Years, Bachelor of Techno...    AI   OBC-NCL   \n",
       "\n",
       "                                  Gender Opening Rank Closing Rank  \n",
       "0                         Gender-Neutral         9106        13018  \n",
       "1  Female-only (including Supernumerary)        18286        20788  \n",
       "2                         Gender-Neutral         1755         1975  \n",
       "3  Female-only (including Supernumerary)         3122         3308  \n",
       "4                         Gender-Neutral         3573         4796  "
      ]
     },
     "execution_count": 32,
     "metadata": {},
     "output_type": "execute_result"
    }
   ],
   "source": [
    "df.head()"
   ]
  },
  {
   "cell_type": "code",
   "execution_count": null,
   "id": "39bb2d5b",
   "metadata": {},
   "outputs": [],
   "source": []
  }
 ],
 "metadata": {
  "kernelspec": {
   "display_name": "Python 3 (ipykernel)",
   "language": "python",
   "name": "python3"
  },
  "language_info": {
   "codemirror_mode": {
    "name": "ipython",
    "version": 3
   },
   "file_extension": ".py",
   "mimetype": "text/x-python",
   "name": "python",
   "nbconvert_exporter": "python",
   "pygments_lexer": "ipython3",
   "version": "3.11.5"
  }
 },
 "nbformat": 4,
 "nbformat_minor": 5
}
