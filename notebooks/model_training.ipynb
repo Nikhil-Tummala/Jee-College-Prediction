{
 "cells": [
  {
   "cell_type": "code",
   "execution_count": 1,
   "id": "922d7b88",
   "metadata": {},
   "outputs": [],
   "source": [
    "import pandas as pd\n",
    "import matplotlib.pyplot as plt\n",
    "import numpy as np"
   ]
  },
  {
   "cell_type": "code",
   "execution_count": 2,
   "id": "785a4830",
   "metadata": {},
   "outputs": [
    {
     "name": "stdout",
     "output_type": "stream",
     "text": [
      "WARNING:tensorflow:From C:\\Users\\tumma\\anaconda3\\Lib\\site-packages\\keras\\src\\losses.py:2976: The name tf.losses.sparse_softmax_cross_entropy is deprecated. Please use tf.compat.v1.losses.sparse_softmax_cross_entropy instead.\n",
      "\n"
     ]
    }
   ],
   "source": [
    "from tensorflow.keras.models import Sequential\n",
    "from tensorflow.keras.layers import Dense,LSTM"
   ]
  },
  {
   "cell_type": "code",
   "execution_count": 3,
   "id": "70f851a8",
   "metadata": {},
   "outputs": [],
   "source": [
    "df=pd.read_csv(\"SJVN.csv\")"
   ]
  },
  {
   "cell_type": "code",
   "execution_count": 5,
   "id": "1902e97d",
   "metadata": {},
   "outputs": [
    {
     "name": "stdout",
     "output_type": "stream",
     "text": [
      "<class 'pandas.core.frame.DataFrame'>\n",
      "RangeIndex: 1598 entries, 0 to 1597\n",
      "Data columns (total 7 columns):\n",
      " #   Column    Non-Null Count  Dtype  \n",
      "---  ------    --------------  -----  \n",
      " 0   Date      1598 non-null   object \n",
      " 1   Price     1598 non-null   float64\n",
      " 2   Open      1598 non-null   float64\n",
      " 3   High      1598 non-null   float64\n",
      " 4   Low       1598 non-null   float64\n",
      " 5   Vol.      1597 non-null   object \n",
      " 6   Change %  1598 non-null   object \n",
      "dtypes: float64(4), object(3)\n",
      "memory usage: 87.5+ KB\n"
     ]
    }
   ],
   "source": [
    "df.info()"
   ]
  },
  {
   "cell_type": "code",
   "execution_count": 8,
   "id": "0b679e5d",
   "metadata": {},
   "outputs": [],
   "source": [
    "df=df.iloc[::-1]"
   ]
  },
  {
   "cell_type": "code",
   "execution_count": 9,
   "id": "c2d95f60",
   "metadata": {},
   "outputs": [],
   "source": [
    "df1=df.reset_index()['Price']"
   ]
  },
  {
   "cell_type": "code",
   "execution_count": 10,
   "id": "618200a7",
   "metadata": {},
   "outputs": [
    {
     "data": {
      "text/plain": [
       "[<matplotlib.lines.Line2D at 0x278829e6450>]"
      ]
     },
     "execution_count": 10,
     "metadata": {},
     "output_type": "execute_result"
    },
    {
     "data": {
      "image/png": "[encoded data removed]",
      "text/plain": [
       "<Figure size 640x480 with 1 Axes>"
      ]
     },
     "metadata": {},
     "output_type": "display_data"
    }
   ],
   "source": [
    "import matplotlib.pyplot as plt\n",
    "plt.plot(df1)"
   ]
  },
  {
   "cell_type": "code",
   "execution_count": 11,
   "id": "fe4f6f1b",
   "metadata": {},
   "outputs": [],
   "source": [
    "from sklearn.preprocessing import MinMaxScaler\n",
    "scaler=MinMaxScaler(feature_range=(0,1))\n",
    "df1=scaler.fit_transform(np.array(df1).reshape(-1,1))"
   ]
  },
  {
   "cell_type": "code",
   "execution_count": 12,
   "id": "d1e92621",
   "metadata": {},
   "outputs": [],
   "source": [
    "training_size=int(len(df1)*0.65)\n",
    "test_size=len(df1)-training_size\n",
    "train_data,test_data=df1[0:training_size,:],df1[training_size:len(df1),:1]"
   ]
  },
  {
   "cell_type": "code",
   "execution_count": 13,
   "id": "cd7ee959",
   "metadata": {},
   "outputs": [
    {
     "data": {
      "text/plain": [
       "(1038, 560)"
      ]
     },
     "execution_count": 13,
     "metadata": {},
     "output_type": "execute_result"
    }
   ],
   "source": [
    "training_size,test_size"
   ]
  },
  {
   "cell_type": "code",
   "execution_count": 14,
   "id": "9b859106",
   "metadata": {},
   "outputs": [],
   "source": [
    "import numpy\n",
    "# convert an array of values into a dataset matrix\n",
    "def create_dataset(dataset, time_step=1):\n",
    "\tdataX, dataY = [], []\n",
    "\tfor i in range(len(dataset)-time_step-1):\n",
    "\t\ta = dataset[i:(i+time_step), 0]   ###i=0, 0,1,2,3-----99   100 \n",
    "\t\tdataX.append(a)\n",
    "\t\tdataY.append(dataset[i + time_step, 0])\n",
    "\treturn numpy.array(dataX), numpy.array(dataY)"
   ]
  },
  {
   "cell_type": "code",
   "execution_count": 15,
   "id": "ab077faf",
   "metadata": {},
   "outputs": [],
   "source": [
    "time_step = 100\n",
    "X_train, y_train = create_dataset(train_data, time_step)\n",
    "X_test, ytest = create_dataset(test_data, time_step)"
   ]
  },
  {
   "cell_type": "code",
   "execution_count": 16,
   "id": "3080ba5d",
   "metadata": {},
   "outputs": [
    {
     "name": "stdout",
     "output_type": "stream",
     "text": [
      "(937, 100)\n",
      "(937,)\n"
     ]
    },
    {
     "data": {
      "text/plain": [
       "(None, None)"
      ]
     },
     "execution_count": 16,
     "metadata": {},
     "output_type": "execute_result"
    }
   ],
   "source": [
    "print(X_train.shape), print(y_train.shape)"
   ]
  },
  {
   "cell_type": "code",
   "execution_count": 17,
   "id": "9178eb28",
   "metadata": {},
   "outputs": [
    {
     "name": "stdout",
     "output_type": "stream",
     "text": [
      "(459, 100)\n",
      "(459,)\n"
     ]
    },
    {
     "data": {
      "text/plain": [
       "(None, None)"
      ]
     },
     "execution_count": 17,
     "metadata": {},
     "output_type": "execute_result"
    }
   ],
   "source": [
    "print(X_test.shape), print(ytest.shape)"
   ]
  },
  {
   "cell_type": "code",
   "execution_count": 18,
   "id": "24a627a3",
   "metadata": {},
   "outputs": [],
   "source": [
    "X_train =X_train.reshape(X_train.shape[0],X_train.shape[1] , 1)\n",
    "X_test = X_test.reshape(X_test.shape[0],X_test.shape[1] , 1)"
   ]
  },
  {
   "cell_type": "code",
   "execution_count": 19,
   "id": "d94d3475",
   "metadata": {},
   "outputs": [],
   "source": [
    "from tensorflow.keras.models import Sequential\n",
    "from tensorflow.keras.layers import Dense\n",
    "from tensorflow.keras.layers import LSTM"
   ]
  },
  {
   "cell_type": "code",
   "execution_count": 20,
   "id": "99d29933",
   "metadata": {},
   "outputs": [
    {
     "name": "stdout",
     "output_type": "stream",
     "text": [
      "WARNING:tensorflow:From C:\\Users\\tumma\\anaconda3\\Lib\\site-packages\\keras\\src\\backend.py:873: The name tf.get_default_graph is deprecated. Please use tf.compat.v1.get_default_graph instead.\n",
      "\n",
      "WARNING:tensorflow:From C:\\Users\\tumma\\anaconda3\\Lib\\site-packages\\keras\\src\\optimizers\\__init__.py:309: The name tf.train.Optimizer is deprecated. Please use tf.compat.v1.train.Optimizer instead.\n",
      "\n"
     ]
    }
   ],
   "source": [
    "model=Sequential()\n",
    "model.add(LSTM(50,return_sequences=True,input_shape=(100,1)))\n",
    "model.add(LSTM(50,return_sequences=True))\n",
    "model.add(LSTM(50))\n",
    "model.add(Dense(1))\n",
    "model.compile(loss='mean_squared_error',optimizer='adam')"
   ]
  },
  {
   "cell_type": "code",
   "execution_count": 21,
   "id": "4f1ba580",
   "metadata": {
    "scrolled": true
   },
   "outputs": [
    {
     "name": "stdout",
     "output_type": "stream",
     "text": [
      "Epoch 1/100\n",
      "WARNING:tensorflow:From C:\\Users\\tumma\\anaconda3\\Lib\\site-packages\\keras\\src\\utils\\tf_utils.py:492: The name tf.ragged.RaggedTensorValue is deprecated. Please use tf.compat.v1.ragged.RaggedTensorValue instead.\n",
      "\n",
      "15/15 [==============================] - 25s 680ms/step - loss: 7.6671e-04 - val_loss: 0.1162\n",
      "Epoch 2/100\n",
      "15/15 [==============================] - 7s 457ms/step - loss: 2.6592e-04 - val_loss: 0.0904\n",
      "Epoch 3/100\n",
      "15/15 [==============================] - 6s 392ms/step - loss: 1.6327e-04 - val_loss: 0.0317\n",
      "Epoch 4/100\n",
      "15/15 [==============================] - 5s 359ms/step - loss: 7.9344e-05 - val_loss: 0.0097\n",
      "Epoch 5/100\n",
      "15/15 [==============================] - 5s 358ms/step - loss: 6.5796e-05 - val_loss: 0.0174\n",
      "Epoch 6/100\n",
      "15/15 [==============================] - 7s 444ms/step - loss: 6.2968e-05 - val_loss: 0.0121\n",
      "Epoch 7/100\n",
      "15/15 [==============================] - 7s 440ms/step - loss: 6.1522e-05 - val_loss: 0.0115\n",
      "Epoch 8/100\n",
      "15/15 [==============================] - 6s 396ms/step - loss: 5.8872e-05 - val_loss: 0.0099\n",
      "Epoch 9/100\n",
      "15/15 [==============================] - 7s 442ms/step - loss: 5.5751e-05 - val_loss: 0.0098\n",
      "Epoch 10/100\n",
      "15/15 [==============================] - 5s 350ms/step - loss: 5.3823e-05 - val_loss: 0.0106\n",
      "Epoch 11/100\n",
      "15/15 [==============================] - 6s 389ms/step - loss: 5.4054e-05 - val_loss: 0.0073\n",
      "Epoch 12/100\n",
      "15/15 [==============================] - 5s 365ms/step - loss: 5.7311e-05 - val_loss: 0.0100\n",
      "Epoch 13/100\n",
      "15/15 [==============================] - 7s 442ms/step - loss: 5.7492e-05 - val_loss: 0.0063\n",
      "Epoch 14/100\n",
      "15/15 [==============================] - 6s 372ms/step - loss: 4.8995e-05 - val_loss: 0.0088\n",
      "Epoch 15/100\n",
      "15/15 [==============================] - 5s 330ms/step - loss: 4.8627e-05 - val_loss: 0.0066\n",
      "Epoch 16/100\n",
      "15/15 [==============================] - 6s 413ms/step - loss: 4.9832e-05 - val_loss: 0.0057\n",
      "Epoch 17/100\n",
      "15/15 [==============================] - 5s 334ms/step - loss: 4.4990e-05 - val_loss: 0.0082\n",
      "Epoch 18/100\n",
      "15/15 [==============================] - 7s 443ms/step - loss: 4.9569e-05 - val_loss: 0.0080\n",
      "Epoch 19/100\n",
      "15/15 [==============================] - 6s 424ms/step - loss: 4.8519e-05 - val_loss: 0.0061\n",
      "Epoch 20/100\n",
      "15/15 [==============================] - 5s 332ms/step - loss: 4.4927e-05 - val_loss: 0.0064\n",
      "Epoch 21/100\n",
      "15/15 [==============================] - 6s 437ms/step - loss: 4.3105e-05 - val_loss: 0.0058\n",
      "Epoch 22/100\n",
      "15/15 [==============================] - 6s 372ms/step - loss: 4.1908e-05 - val_loss: 0.0046\n",
      "Epoch 23/100\n",
      "15/15 [==============================] - 7s 443ms/step - loss: 4.0517e-05 - val_loss: 0.0077\n",
      "Epoch 24/100\n",
      "15/15 [==============================] - 6s 403ms/step - loss: 4.3207e-05 - val_loss: 0.0050\n",
      "Epoch 25/100\n",
      "15/15 [==============================] - 6s 378ms/step - loss: 4.1078e-05 - val_loss: 0.0073\n",
      "Epoch 26/100\n",
      "15/15 [==============================] - 6s 430ms/step - loss: 4.3346e-05 - val_loss: 0.0044\n",
      "Epoch 27/100\n",
      "15/15 [==============================] - 5s 369ms/step - loss: 5.1827e-05 - val_loss: 0.0076\n",
      "Epoch 28/100\n",
      "15/15 [==============================] - 5s 371ms/step - loss: 5.0338e-05 - val_loss: 0.0062\n",
      "Epoch 29/100\n",
      "15/15 [==============================] - 5s 351ms/step - loss: 3.9472e-05 - val_loss: 0.0044\n",
      "Epoch 30/100\n",
      "15/15 [==============================] - 7s 439ms/step - loss: 3.7171e-05 - val_loss: 0.0054\n",
      "Epoch 31/100\n",
      "15/15 [==============================] - 6s 437ms/step - loss: 3.6233e-05 - val_loss: 0.0052\n",
      "Epoch 32/100\n",
      "15/15 [==============================] - 6s 425ms/step - loss: 3.7831e-05 - val_loss: 0.0038\n",
      "Epoch 33/100\n",
      "15/15 [==============================] - 5s 337ms/step - loss: 3.7901e-05 - val_loss: 0.0050\n",
      "Epoch 34/100\n",
      "15/15 [==============================] - 6s 381ms/step - loss: 4.6825e-05 - val_loss: 0.0063\n",
      "Epoch 35/100\n",
      "15/15 [==============================] - 5s 343ms/step - loss: 4.0299e-05 - val_loss: 0.0050\n",
      "Epoch 36/100\n",
      "15/15 [==============================] - 6s 372ms/step - loss: 3.9707e-05 - val_loss: 0.0069\n",
      "Epoch 37/100\n",
      "15/15 [==============================] - 6s 382ms/step - loss: 4.1910e-05 - val_loss: 0.0073\n",
      "Epoch 38/100\n",
      "15/15 [==============================] - 6s 367ms/step - loss: 3.7543e-05 - val_loss: 0.0058\n",
      "Epoch 39/100\n",
      "15/15 [==============================] - 5s 340ms/step - loss: 3.6747e-05 - val_loss: 0.0050\n",
      "Epoch 40/100\n",
      "15/15 [==============================] - 5s 330ms/step - loss: 3.5367e-05 - val_loss: 0.0045\n",
      "Epoch 41/100\n",
      "15/15 [==============================] - 4s 267ms/step - loss: 3.4093e-05 - val_loss: 0.0053\n",
      "Epoch 42/100\n",
      "15/15 [==============================] - 5s 315ms/step - loss: 3.3300e-05 - val_loss: 0.0048\n",
      "Epoch 43/100\n",
      "15/15 [==============================] - 5s 324ms/step - loss: 3.4480e-05 - val_loss: 0.0043\n",
      "Epoch 44/100\n",
      "15/15 [==============================] - 5s 314ms/step - loss: 3.3483e-05 - val_loss: 0.0054\n",
      "Epoch 45/100\n",
      "15/15 [==============================] - 4s 300ms/step - loss: 3.3111e-05 - val_loss: 0.0044\n",
      "Epoch 46/100\n",
      "15/15 [==============================] - 5s 317ms/step - loss: 3.5259e-05 - val_loss: 0.0054\n",
      "Epoch 47/100\n",
      "15/15 [==============================] - 4s 285ms/step - loss: 3.3152e-05 - val_loss: 0.0046\n",
      "Epoch 48/100\n",
      "15/15 [==============================] - 5s 310ms/step - loss: 3.1226e-05 - val_loss: 0.0057\n",
      "Epoch 49/100\n",
      "15/15 [==============================] - 5s 313ms/step - loss: 3.1356e-05 - val_loss: 0.0051\n",
      "Epoch 50/100\n",
      "15/15 [==============================] - 5s 312ms/step - loss: 2.9796e-05 - val_loss: 0.0045\n",
      "Epoch 51/100\n",
      "15/15 [==============================] - 5s 309ms/step - loss: 3.1954e-05 - val_loss: 0.0045\n",
      "Epoch 52/100\n",
      "15/15 [==============================] - 5s 312ms/step - loss: 3.4013e-05 - val_loss: 0.0053\n",
      "Epoch 53/100\n",
      "15/15 [==============================] - 5s 312ms/step - loss: 3.8447e-05 - val_loss: 0.0068\n",
      "Epoch 54/100\n",
      "15/15 [==============================] - 5s 304ms/step - loss: 3.6593e-05 - val_loss: 0.0045\n",
      "Epoch 55/100\n",
      "15/15 [==============================] - 5s 312ms/step - loss: 3.1704e-05 - val_loss: 0.0052\n",
      "Epoch 56/100\n",
      "15/15 [==============================] - 5s 327ms/step - loss: 2.8692e-05 - val_loss: 0.0058\n",
      "Epoch 57/100\n",
      "15/15 [==============================] - 5s 339ms/step - loss: 2.8541e-05 - val_loss: 0.0055\n",
      "Epoch 58/100\n",
      "15/15 [==============================] - 5s 329ms/step - loss: 2.8161e-05 - val_loss: 0.0056\n",
      "Epoch 59/100\n",
      "15/15 [==============================] - 6s 374ms/step - loss: 2.8693e-05 - val_loss: 0.0059\n",
      "Epoch 60/100\n",
      "15/15 [==============================] - 6s 424ms/step - loss: 2.7339e-05 - val_loss: 0.0035\n",
      "Epoch 61/100\n",
      "15/15 [==============================] - 5s 351ms/step - loss: 2.9137e-05 - val_loss: 0.0057\n",
      "Epoch 62/100\n",
      "15/15 [==============================] - 6s 397ms/step - loss: 2.7510e-05 - val_loss: 0.0046\n",
      "Epoch 63/100\n",
      "15/15 [==============================] - 5s 363ms/step - loss: 2.6021e-05 - val_loss: 0.0048\n",
      "Epoch 64/100\n",
      "15/15 [==============================] - 5s 333ms/step - loss: 2.6396e-05 - val_loss: 0.0035\n",
      "Epoch 65/100\n",
      "15/15 [==============================] - 6s 417ms/step - loss: 2.5779e-05 - val_loss: 0.0052\n",
      "Epoch 66/100\n",
      "15/15 [==============================] - 6s 401ms/step - loss: 2.7290e-05 - val_loss: 0.0044\n",
      "Epoch 67/100\n",
      "15/15 [==============================] - 5s 367ms/step - loss: 2.5739e-05 - val_loss: 0.0048\n",
      "Epoch 68/100\n",
      "15/15 [==============================] - 5s 351ms/step - loss: 2.7825e-05 - val_loss: 0.0049\n",
      "Epoch 69/100\n",
      "15/15 [==============================] - 6s 399ms/step - loss: 2.5119e-05 - val_loss: 0.0066\n",
      "Epoch 70/100\n",
      "15/15 [==============================] - 6s 377ms/step - loss: 2.4775e-05 - val_loss: 0.0036\n",
      "Epoch 71/100\n",
      "15/15 [==============================] - 5s 361ms/step - loss: 2.3814e-05 - val_loss: 0.0057\n",
      "Epoch 72/100\n",
      "15/15 [==============================] - 7s 439ms/step - loss: 2.4570e-05 - val_loss: 0.0043\n",
      "Epoch 73/100\n",
      "15/15 [==============================] - 5s 341ms/step - loss: 2.4164e-05 - val_loss: 0.0041\n",
      "Epoch 74/100\n",
      "15/15 [==============================] - 5s 363ms/step - loss: 2.3811e-05 - val_loss: 0.0046\n",
      "Epoch 75/100\n",
      "15/15 [==============================] - 5s 331ms/step - loss: 2.3163e-05 - val_loss: 0.0045\n",
      "Epoch 76/100\n"
     ]
    },
    {
     "name": "stdout",
     "output_type": "stream",
     "text": [
      "15/15 [==============================] - 5s 323ms/step - loss: 2.7407e-05 - val_loss: 0.0031\n",
      "Epoch 77/100\n",
      "15/15 [==============================] - 6s 375ms/step - loss: 2.7063e-05 - val_loss: 0.0052\n",
      "Epoch 78/100\n",
      "15/15 [==============================] - 5s 331ms/step - loss: 2.3441e-05 - val_loss: 0.0060\n",
      "Epoch 79/100\n",
      "15/15 [==============================] - 5s 336ms/step - loss: 2.3978e-05 - val_loss: 0.0076\n",
      "Epoch 80/100\n",
      "15/15 [==============================] - 5s 341ms/step - loss: 2.3787e-05 - val_loss: 0.0034\n",
      "Epoch 81/100\n",
      "15/15 [==============================] - 5s 341ms/step - loss: 2.3091e-05 - val_loss: 0.0056\n",
      "Epoch 82/100\n",
      "15/15 [==============================] - 5s 341ms/step - loss: 2.2651e-05 - val_loss: 0.0074\n",
      "Epoch 83/100\n",
      "15/15 [==============================] - 5s 356ms/step - loss: 2.4609e-05 - val_loss: 0.0043\n",
      "Epoch 84/100\n",
      "15/15 [==============================] - 5s 348ms/step - loss: 2.4161e-05 - val_loss: 0.0048\n",
      "Epoch 85/100\n",
      "15/15 [==============================] - 5s 361ms/step - loss: 2.1491e-05 - val_loss: 0.0068\n",
      "Epoch 86/100\n",
      "15/15 [==============================] - 5s 345ms/step - loss: 2.1567e-05 - val_loss: 0.0039\n",
      "Epoch 87/100\n",
      "15/15 [==============================] - 6s 412ms/step - loss: 2.0712e-05 - val_loss: 0.0040\n",
      "Epoch 88/100\n",
      "15/15 [==============================] - 5s 365ms/step - loss: 2.0407e-05 - val_loss: 0.0056\n",
      "Epoch 89/100\n",
      "15/15 [==============================] - 6s 424ms/step - loss: 2.0617e-05 - val_loss: 0.0052\n",
      "Epoch 90/100\n",
      "15/15 [==============================] - 5s 336ms/step - loss: 2.0873e-05 - val_loss: 0.0039\n",
      "Epoch 91/100\n",
      "15/15 [==============================] - 5s 342ms/step - loss: 2.0090e-05 - val_loss: 0.0042\n",
      "Epoch 92/100\n",
      "15/15 [==============================] - 5s 308ms/step - loss: 2.0903e-05 - val_loss: 0.0060\n",
      "Epoch 93/100\n",
      "15/15 [==============================] - 5s 358ms/step - loss: 1.9513e-05 - val_loss: 0.0037\n",
      "Epoch 94/100\n",
      "15/15 [==============================] - 5s 353ms/step - loss: 2.0964e-05 - val_loss: 0.0042\n",
      "Epoch 95/100\n",
      "15/15 [==============================] - 5s 351ms/step - loss: 1.9352e-05 - val_loss: 0.0049\n",
      "Epoch 96/100\n",
      "15/15 [==============================] - 6s 404ms/step - loss: 1.9423e-05 - val_loss: 0.0051\n",
      "Epoch 97/100\n",
      "15/15 [==============================] - 6s 370ms/step - loss: 1.9444e-05 - val_loss: 0.0041\n",
      "Epoch 98/100\n",
      "15/15 [==============================] - 5s 354ms/step - loss: 1.9756e-05 - val_loss: 0.0048\n",
      "Epoch 99/100\n",
      "15/15 [==============================] - 6s 404ms/step - loss: 1.8622e-05 - val_loss: 0.0040\n",
      "Epoch 100/100\n",
      "15/15 [==============================] - 7s 447ms/step - loss: 2.0224e-05 - val_loss: 0.0045\n"
     ]
    },
    {
     "data": {
      "text/plain": [
       "<keras.src.callbacks.History at 0x278849a7890>"
      ]
     },
     "execution_count": 21,
     "metadata": {},
     "output_type": "execute_result"
    }
   ],
   "source": [
    "model.fit(X_train,y_train,validation_data=(X_test,ytest),epochs=100,batch_size=64,verbose=1)"
   ]
  },
  {
   "cell_type": "code",
   "execution_count": 23,
   "id": "9d818e65",
   "metadata": {},
   "outputs": [
    {
     "name": "stdout",
     "output_type": "stream",
     "text": [
      "30/30 [==============================] - 6s 80ms/step\n",
      "15/15 [==============================] - 1s 82ms/step\n"
     ]
    }
   ],
   "source": [
    "train_predict=model.predict(X_train)\n",
    "test_predict=model.predict(X_test)"
   ]
  },
  {
   "cell_type": "code",
   "execution_count": 24,
   "id": "575c35c2",
   "metadata": {},
   "outputs": [],
   "source": [
    "train_predict=scaler.inverse_transform(train_predict)\n",
    "test_predict=scaler.inverse_transform(test_predict)"
   ]
  },
  {
   "cell_type": "code",
   "execution_count": 25,
   "id": "64a019f1",
   "metadata": {},
   "outputs": [
    {
     "data": {
      "text/plain": [
       "25.950919399461345"
      ]
     },
     "execution_count": 25,
     "metadata": {},
     "output_type": "execute_result"
    }
   ],
   "source": [
    "import math\n",
    "from sklearn.metrics import mean_squared_error\n",
    "math.sqrt(mean_squared_error(y_train,train_predict))"
   ]
  },
  {
   "cell_type": "code",
   "execution_count": null,
   "id": "2960d9c0",
   "metadata": {},
   "outputs": [],
   "source": [
    "look_back=100\n",
    "trainPredictPlot = numpy.empty_like(df1)\n",
    "trainPredictPlot[:, :] = np.nan\n",
    "trainPredictPlot[look_back:len(train_predict)+look_back, :] = train_predict\n",
    "# shift test predictions for plotting\n",
    "testPredictPlot = numpy.empty_like(df1)\n",
    "testPredictPlot[:, :] = numpy.nan\n",
    "testPredictPlot[len(train_predict)+(look_back*2)+1:len(df1)-1, :] = test_predict\n",
    "# plot baseline and predictions\n",
    "plt.plot(scaler.inverse_transform(df1))\n",
    "plt.plot(trainPredictPlot)\n",
    "plt.plot(testPredictPlot)\n",
    "plt.show()"
   ]
  },
  {
   "cell_type": "code",
   "execution_count": 22,
   "id": "ed3327a6",
   "metadata": {},
   "outputs": [
    {
     "data": {
      "text/plain": [
       "560"
      ]
     },
     "execution_count": 22,
     "metadata": {},
     "output_type": "execute_result"
    }
   ],
   "source": [
    "len(test_data)"
   ]
  },
  {
   "cell_type": "code",
   "execution_count": 26,
   "id": "ea06e237",
   "metadata": {},
   "outputs": [
    {
     "data": {
      "text/plain": [
       "(1, 100)"
      ]
     },
     "execution_count": 26,
     "metadata": {},
     "output_type": "execute_result"
    }
   ],
   "source": [
    "x_input=test_data[460:].reshape(1,-1)\n",
    "x_input.shape"
   ]
  },
  {
   "cell_type": "code",
   "execution_count": 27,
   "id": "0c0c0ab1",
   "metadata": {},
   "outputs": [],
   "source": [
    "temp_input=list(x_input)\n",
    "temp_input=temp_input[0].tolist()"
   ]
  },
  {
   "cell_type": "code",
   "execution_count": 28,
   "id": "902d4ed5",
   "metadata": {},
   "outputs": [
    {
     "name": "stdout",
     "output_type": "stream",
     "text": [
      "[0.7466111]\n",
      "101\n",
      "1 day input [0.69742814 0.64636914 0.71633888 0.74130106 0.83774584 0.82829047\n",
      " 0.85741301 0.82526475 0.93645991 0.9822239  0.9720121  0.97163389\n",
      " 1.         0.92360061 0.71104387 0.6785174  0.77231467 0.80559758\n",
      " 0.77193646 0.81580938 0.79198185 0.77420575 0.78025719 0.76437216\n",
      " 0.77080182 0.78555219 0.75189107 0.77685325 0.77723147 0.77534039\n",
      " 0.78555219 0.77723147 0.76399395 0.78479576 0.76739788 0.71028744\n",
      " 0.62594554 0.75794251 0.80295008 0.79576399 0.75718608 0.75189107\n",
      " 0.77344932 0.79009077 0.77874433 0.78933434 0.77874433 0.80900151\n",
      " 0.86270802 0.86913767 0.85665658 0.88464448 0.88237519 0.84909228\n",
      " 0.86195159 0.85022693 0.79992436 0.82488654 0.82829047 0.79992436\n",
      " 0.83358548 0.8392587  0.84152799 0.86611195 0.87859304 0.89750378\n",
      " 0.87708018 0.897882   0.8827534  0.8623298  0.81807867 0.83245083\n",
      " 0.80030257 0.80975794 0.79462935 0.84795764 0.83850227 0.85741301\n",
      " 0.87972769 0.87934947 0.98108926 0.96633888 0.97541604 0.95612708\n",
      " 0.95347958 0.91187595 0.91717095 0.87178517 0.91717095 0.94326778\n",
      " 0.79236006 0.81543116 0.85287443 0.86913767 0.86187595 0.87110439\n",
      " 0.87503782 0.86739788 0.88184569 0.74661112]\n",
      "1 day output [[0.7166185]]\n",
      "2 day input [0.64636914 0.71633888 0.74130106 0.83774584 0.82829047 0.85741301\n",
      " 0.82526475 0.93645991 0.9822239  0.9720121  0.97163389 1.\n",
      " 0.92360061 0.71104387 0.6785174  0.77231467 0.80559758 0.77193646\n",
      " 0.81580938 0.79198185 0.77420575 0.78025719 0.76437216 0.77080182\n",
      " 0.78555219 0.75189107 0.77685325 0.77723147 0.77534039 0.78555219\n",
      " 0.77723147 0.76399395 0.78479576 0.76739788 0.71028744 0.62594554\n",
      " 0.75794251 0.80295008 0.79576399 0.75718608 0.75189107 0.77344932\n",
      " 0.79009077 0.77874433 0.78933434 0.77874433 0.80900151 0.86270802\n",
      " 0.86913767 0.85665658 0.88464448 0.88237519 0.84909228 0.86195159\n",
      " 0.85022693 0.79992436 0.82488654 0.82829047 0.79992436 0.83358548\n",
      " 0.8392587  0.84152799 0.86611195 0.87859304 0.89750378 0.87708018\n",
      " 0.897882   0.8827534  0.8623298  0.81807867 0.83245083 0.80030257\n",
      " 0.80975794 0.79462935 0.84795764 0.83850227 0.85741301 0.87972769\n",
      " 0.87934947 0.98108926 0.96633888 0.97541604 0.95612708 0.95347958\n",
      " 0.91187595 0.91717095 0.87178517 0.91717095 0.94326778 0.79236006\n",
      " 0.81543116 0.85287443 0.86913767 0.86187595 0.87110439 0.87503782\n",
      " 0.86739788 0.88184569 0.74661112 0.71661848]\n",
      "2 day output [[0.67436135]]\n",
      "3 day input [0.71633888 0.74130106 0.83774584 0.82829047 0.85741301 0.82526475\n",
      " 0.93645991 0.9822239  0.9720121  0.97163389 1.         0.92360061\n",
      " 0.71104387 0.6785174  0.77231467 0.80559758 0.77193646 0.81580938\n",
      " 0.79198185 0.77420575 0.78025719 0.76437216 0.77080182 0.78555219\n",
      " 0.75189107 0.77685325 0.77723147 0.77534039 0.78555219 0.77723147\n",
      " 0.76399395 0.78479576 0.76739788 0.71028744 0.62594554 0.75794251\n",
      " 0.80295008 0.79576399 0.75718608 0.75189107 0.77344932 0.79009077\n",
      " 0.77874433 0.78933434 0.77874433 0.80900151 0.86270802 0.86913767\n",
      " 0.85665658 0.88464448 0.88237519 0.84909228 0.86195159 0.85022693\n",
      " 0.79992436 0.82488654 0.82829047 0.79992436 0.83358548 0.8392587\n",
      " 0.84152799 0.86611195 0.87859304 0.89750378 0.87708018 0.897882\n",
      " 0.8827534  0.8623298  0.81807867 0.83245083 0.80030257 0.80975794\n",
      " 0.79462935 0.84795764 0.83850227 0.85741301 0.87972769 0.87934947\n",
      " 0.98108926 0.96633888 0.97541604 0.95612708 0.95347958 0.91187595\n",
      " 0.91717095 0.87178517 0.91717095 0.94326778 0.79236006 0.81543116\n",
      " 0.85287443 0.86913767 0.86187595 0.87110439 0.87503782 0.86739788\n",
      " 0.88184569 0.74661112 0.71661848 0.67436135]\n",
      "3 day output [[0.63182956]]\n",
      "4 day input [0.74130106 0.83774584 0.82829047 0.85741301 0.82526475 0.93645991\n",
      " 0.9822239  0.9720121  0.97163389 1.         0.92360061 0.71104387\n",
      " 0.6785174  0.77231467 0.80559758 0.77193646 0.81580938 0.79198185\n",
      " 0.77420575 0.78025719 0.76437216 0.77080182 0.78555219 0.75189107\n",
      " 0.77685325 0.77723147 0.77534039 0.78555219 0.77723147 0.76399395\n",
      " 0.78479576 0.76739788 0.71028744 0.62594554 0.75794251 0.80295008\n",
      " 0.79576399 0.75718608 0.75189107 0.77344932 0.79009077 0.77874433\n",
      " 0.78933434 0.77874433 0.80900151 0.86270802 0.86913767 0.85665658\n",
      " 0.88464448 0.88237519 0.84909228 0.86195159 0.85022693 0.79992436\n",
      " 0.82488654 0.82829047 0.79992436 0.83358548 0.8392587  0.84152799\n",
      " 0.86611195 0.87859304 0.89750378 0.87708018 0.897882   0.8827534\n",
      " 0.8623298  0.81807867 0.83245083 0.80030257 0.80975794 0.79462935\n",
      " 0.84795764 0.83850227 0.85741301 0.87972769 0.87934947 0.98108926\n",
      " 0.96633888 0.97541604 0.95612708 0.95347958 0.91187595 0.91717095\n",
      " 0.87178517 0.91717095 0.94326778 0.79236006 0.81543116 0.85287443\n",
      " 0.86913767 0.86187595 0.87110439 0.87503782 0.86739788 0.88184569\n",
      " 0.74661112 0.71661848 0.67436135 0.63182956]\n",
      "4 day output [[0.5933514]]\n",
      "5 day input [0.83774584 0.82829047 0.85741301 0.82526475 0.93645991 0.9822239\n",
      " 0.9720121  0.97163389 1.         0.92360061 0.71104387 0.6785174\n",
      " 0.77231467 0.80559758 0.77193646 0.81580938 0.79198185 0.77420575\n",
      " 0.78025719 0.76437216 0.77080182 0.78555219 0.75189107 0.77685325\n",
      " 0.77723147 0.77534039 0.78555219 0.77723147 0.76399395 0.78479576\n",
      " 0.76739788 0.71028744 0.62594554 0.75794251 0.80295008 0.79576399\n",
      " 0.75718608 0.75189107 0.77344932 0.79009077 0.77874433 0.78933434\n",
      " 0.77874433 0.80900151 0.86270802 0.86913767 0.85665658 0.88464448\n",
      " 0.88237519 0.84909228 0.86195159 0.85022693 0.79992436 0.82488654\n",
      " 0.82829047 0.79992436 0.83358548 0.8392587  0.84152799 0.86611195\n",
      " 0.87859304 0.89750378 0.87708018 0.897882   0.8827534  0.8623298\n",
      " 0.81807867 0.83245083 0.80030257 0.80975794 0.79462935 0.84795764\n",
      " 0.83850227 0.85741301 0.87972769 0.87934947 0.98108926 0.96633888\n",
      " 0.97541604 0.95612708 0.95347958 0.91187595 0.91717095 0.87178517\n",
      " 0.91717095 0.94326778 0.79236006 0.81543116 0.85287443 0.86913767\n",
      " 0.86187595 0.87110439 0.87503782 0.86739788 0.88184569 0.74661112\n",
      " 0.71661848 0.67436135 0.63182956 0.59335142]\n",
      "5 day output [[0.5598351]]\n",
      "6 day input [0.82829047 0.85741301 0.82526475 0.93645991 0.9822239  0.9720121\n",
      " 0.97163389 1.         0.92360061 0.71104387 0.6785174  0.77231467\n",
      " 0.80559758 0.77193646 0.81580938 0.79198185 0.77420575 0.78025719\n",
      " 0.76437216 0.77080182 0.78555219 0.75189107 0.77685325 0.77723147\n",
      " 0.77534039 0.78555219 0.77723147 0.76399395 0.78479576 0.76739788\n",
      " 0.71028744 0.62594554 0.75794251 0.80295008 0.79576399 0.75718608\n",
      " 0.75189107 0.77344932 0.79009077 0.77874433 0.78933434 0.77874433\n",
      " 0.80900151 0.86270802 0.86913767 0.85665658 0.88464448 0.88237519\n",
      " 0.84909228 0.86195159 0.85022693 0.79992436 0.82488654 0.82829047\n",
      " 0.79992436 0.83358548 0.8392587  0.84152799 0.86611195 0.87859304\n",
      " 0.89750378 0.87708018 0.897882   0.8827534  0.8623298  0.81807867\n",
      " 0.83245083 0.80030257 0.80975794 0.79462935 0.84795764 0.83850227\n",
      " 0.85741301 0.87972769 0.87934947 0.98108926 0.96633888 0.97541604\n",
      " 0.95612708 0.95347958 0.91187595 0.91717095 0.87178517 0.91717095\n",
      " 0.94326778 0.79236006 0.81543116 0.85287443 0.86913767 0.86187595\n",
      " 0.87110439 0.87503782 0.86739788 0.88184569 0.74661112 0.71661848\n",
      " 0.67436135 0.63182956 0.59335142 0.55983508]\n",
      "6 day output [[0.53099585]]\n",
      "7 day input [0.85741301 0.82526475 0.93645991 0.9822239  0.9720121  0.97163389\n",
      " 1.         0.92360061 0.71104387 0.6785174  0.77231467 0.80559758\n",
      " 0.77193646 0.81580938 0.79198185 0.77420575 0.78025719 0.76437216\n",
      " 0.77080182 0.78555219 0.75189107 0.77685325 0.77723147 0.77534039\n",
      " 0.78555219 0.77723147 0.76399395 0.78479576 0.76739788 0.71028744\n",
      " 0.62594554 0.75794251 0.80295008 0.79576399 0.75718608 0.75189107\n",
      " 0.77344932 0.79009077 0.77874433 0.78933434 0.77874433 0.80900151\n",
      " 0.86270802 0.86913767 0.85665658 0.88464448 0.88237519 0.84909228\n",
      " 0.86195159 0.85022693 0.79992436 0.82488654 0.82829047 0.79992436\n",
      " 0.83358548 0.8392587  0.84152799 0.86611195 0.87859304 0.89750378\n",
      " 0.87708018 0.897882   0.8827534  0.8623298  0.81807867 0.83245083\n",
      " 0.80030257 0.80975794 0.79462935 0.84795764 0.83850227 0.85741301\n",
      " 0.87972769 0.87934947 0.98108926 0.96633888 0.97541604 0.95612708\n",
      " 0.95347958 0.91187595 0.91717095 0.87178517 0.91717095 0.94326778\n",
      " 0.79236006 0.81543116 0.85287443 0.86913767 0.86187595 0.87110439\n",
      " 0.87503782 0.86739788 0.88184569 0.74661112 0.71661848 0.67436135\n",
      " 0.63182956 0.59335142 0.55983508 0.53099585]\n",
      "7 day output [[0.5061326]]\n",
      "8 day input [0.82526475 0.93645991 0.9822239  0.9720121  0.97163389 1.\n",
      " 0.92360061 0.71104387 0.6785174  0.77231467 0.80559758 0.77193646\n",
      " 0.81580938 0.79198185 0.77420575 0.78025719 0.76437216 0.77080182\n",
      " 0.78555219 0.75189107 0.77685325 0.77723147 0.77534039 0.78555219\n",
      " 0.77723147 0.76399395 0.78479576 0.76739788 0.71028744 0.62594554\n",
      " 0.75794251 0.80295008 0.79576399 0.75718608 0.75189107 0.77344932\n",
      " 0.79009077 0.77874433 0.78933434 0.77874433 0.80900151 0.86270802\n",
      " 0.86913767 0.85665658 0.88464448 0.88237519 0.84909228 0.86195159\n",
      " 0.85022693 0.79992436 0.82488654 0.82829047 0.79992436 0.83358548\n",
      " 0.8392587  0.84152799 0.86611195 0.87859304 0.89750378 0.87708018\n",
      " 0.897882   0.8827534  0.8623298  0.81807867 0.83245083 0.80030257\n",
      " 0.80975794 0.79462935 0.84795764 0.83850227 0.85741301 0.87972769\n",
      " 0.87934947 0.98108926 0.96633888 0.97541604 0.95612708 0.95347958\n",
      " 0.91187595 0.91717095 0.87178517 0.91717095 0.94326778 0.79236006\n",
      " 0.81543116 0.85287443 0.86913767 0.86187595 0.87110439 0.87503782\n",
      " 0.86739788 0.88184569 0.74661112 0.71661848 0.67436135 0.63182956\n",
      " 0.59335142 0.55983508 0.53099585 0.5061326 ]\n"
     ]
    },
    {
     "name": "stdout",
     "output_type": "stream",
     "text": [
      "8 day output [[0.48439345]]\n",
      "9 day input [0.93645991 0.9822239  0.9720121  0.97163389 1.         0.92360061\n",
      " 0.71104387 0.6785174  0.77231467 0.80559758 0.77193646 0.81580938\n",
      " 0.79198185 0.77420575 0.78025719 0.76437216 0.77080182 0.78555219\n",
      " 0.75189107 0.77685325 0.77723147 0.77534039 0.78555219 0.77723147\n",
      " 0.76399395 0.78479576 0.76739788 0.71028744 0.62594554 0.75794251\n",
      " 0.80295008 0.79576399 0.75718608 0.75189107 0.77344932 0.79009077\n",
      " 0.77874433 0.78933434 0.77874433 0.80900151 0.86270802 0.86913767\n",
      " 0.85665658 0.88464448 0.88237519 0.84909228 0.86195159 0.85022693\n",
      " 0.79992436 0.82488654 0.82829047 0.79992436 0.83358548 0.8392587\n",
      " 0.84152799 0.86611195 0.87859304 0.89750378 0.87708018 0.897882\n",
      " 0.8827534  0.8623298  0.81807867 0.83245083 0.80030257 0.80975794\n",
      " 0.79462935 0.84795764 0.83850227 0.85741301 0.87972769 0.87934947\n",
      " 0.98108926 0.96633888 0.97541604 0.95612708 0.95347958 0.91187595\n",
      " 0.91717095 0.87178517 0.91717095 0.94326778 0.79236006 0.81543116\n",
      " 0.85287443 0.86913767 0.86187595 0.87110439 0.87503782 0.86739788\n",
      " 0.88184569 0.74661112 0.71661848 0.67436135 0.63182956 0.59335142\n",
      " 0.55983508 0.53099585 0.5061326  0.48439345]\n",
      "9 day output [[0.46491036]]\n",
      "10 day input [0.9822239  0.9720121  0.97163389 1.         0.92360061 0.71104387\n",
      " 0.6785174  0.77231467 0.80559758 0.77193646 0.81580938 0.79198185\n",
      " 0.77420575 0.78025719 0.76437216 0.77080182 0.78555219 0.75189107\n",
      " 0.77685325 0.77723147 0.77534039 0.78555219 0.77723147 0.76399395\n",
      " 0.78479576 0.76739788 0.71028744 0.62594554 0.75794251 0.80295008\n",
      " 0.79576399 0.75718608 0.75189107 0.77344932 0.79009077 0.77874433\n",
      " 0.78933434 0.77874433 0.80900151 0.86270802 0.86913767 0.85665658\n",
      " 0.88464448 0.88237519 0.84909228 0.86195159 0.85022693 0.79992436\n",
      " 0.82488654 0.82829047 0.79992436 0.83358548 0.8392587  0.84152799\n",
      " 0.86611195 0.87859304 0.89750378 0.87708018 0.897882   0.8827534\n",
      " 0.8623298  0.81807867 0.83245083 0.80030257 0.80975794 0.79462935\n",
      " 0.84795764 0.83850227 0.85741301 0.87972769 0.87934947 0.98108926\n",
      " 0.96633888 0.97541604 0.95612708 0.95347958 0.91187595 0.91717095\n",
      " 0.87178517 0.91717095 0.94326778 0.79236006 0.81543116 0.85287443\n",
      " 0.86913767 0.86187595 0.87110439 0.87503782 0.86739788 0.88184569\n",
      " 0.74661112 0.71661848 0.67436135 0.63182956 0.59335142 0.55983508\n",
      " 0.53099585 0.5061326  0.48439345 0.46491036]\n",
      "10 day output [[0.44689685]]\n",
      "11 day input [0.9720121  0.97163389 1.         0.92360061 0.71104387 0.6785174\n",
      " 0.77231467 0.80559758 0.77193646 0.81580938 0.79198185 0.77420575\n",
      " 0.78025719 0.76437216 0.77080182 0.78555219 0.75189107 0.77685325\n",
      " 0.77723147 0.77534039 0.78555219 0.77723147 0.76399395 0.78479576\n",
      " 0.76739788 0.71028744 0.62594554 0.75794251 0.80295008 0.79576399\n",
      " 0.75718608 0.75189107 0.77344932 0.79009077 0.77874433 0.78933434\n",
      " 0.77874433 0.80900151 0.86270802 0.86913767 0.85665658 0.88464448\n",
      " 0.88237519 0.84909228 0.86195159 0.85022693 0.79992436 0.82488654\n",
      " 0.82829047 0.79992436 0.83358548 0.8392587  0.84152799 0.86611195\n",
      " 0.87859304 0.89750378 0.87708018 0.897882   0.8827534  0.8623298\n",
      " 0.81807867 0.83245083 0.80030257 0.80975794 0.79462935 0.84795764\n",
      " 0.83850227 0.85741301 0.87972769 0.87934947 0.98108926 0.96633888\n",
      " 0.97541604 0.95612708 0.95347958 0.91187595 0.91717095 0.87178517\n",
      " 0.91717095 0.94326778 0.79236006 0.81543116 0.85287443 0.86913767\n",
      " 0.86187595 0.87110439 0.87503782 0.86739788 0.88184569 0.74661112\n",
      " 0.71661848 0.67436135 0.63182956 0.59335142 0.55983508 0.53099585\n",
      " 0.5061326  0.48439345 0.46491036 0.44689685]\n",
      "11 day output [[0.429716]]\n",
      "12 day input [0.97163389 1.         0.92360061 0.71104387 0.6785174  0.77231467\n",
      " 0.80559758 0.77193646 0.81580938 0.79198185 0.77420575 0.78025719\n",
      " 0.76437216 0.77080182 0.78555219 0.75189107 0.77685325 0.77723147\n",
      " 0.77534039 0.78555219 0.77723147 0.76399395 0.78479576 0.76739788\n",
      " 0.71028744 0.62594554 0.75794251 0.80295008 0.79576399 0.75718608\n",
      " 0.75189107 0.77344932 0.79009077 0.77874433 0.78933434 0.77874433\n",
      " 0.80900151 0.86270802 0.86913767 0.85665658 0.88464448 0.88237519\n",
      " 0.84909228 0.86195159 0.85022693 0.79992436 0.82488654 0.82829047\n",
      " 0.79992436 0.83358548 0.8392587  0.84152799 0.86611195 0.87859304\n",
      " 0.89750378 0.87708018 0.897882   0.8827534  0.8623298  0.81807867\n",
      " 0.83245083 0.80030257 0.80975794 0.79462935 0.84795764 0.83850227\n",
      " 0.85741301 0.87972769 0.87934947 0.98108926 0.96633888 0.97541604\n",
      " 0.95612708 0.95347958 0.91187595 0.91717095 0.87178517 0.91717095\n",
      " 0.94326778 0.79236006 0.81543116 0.85287443 0.86913767 0.86187595\n",
      " 0.87110439 0.87503782 0.86739788 0.88184569 0.74661112 0.71661848\n",
      " 0.67436135 0.63182956 0.59335142 0.55983508 0.53099585 0.5061326\n",
      " 0.48439345 0.46491036 0.44689685 0.42971599]\n",
      "12 day output [[0.4129128]]\n",
      "13 day input [1.         0.92360061 0.71104387 0.6785174  0.77231467 0.80559758\n",
      " 0.77193646 0.81580938 0.79198185 0.77420575 0.78025719 0.76437216\n",
      " 0.77080182 0.78555219 0.75189107 0.77685325 0.77723147 0.77534039\n",
      " 0.78555219 0.77723147 0.76399395 0.78479576 0.76739788 0.71028744\n",
      " 0.62594554 0.75794251 0.80295008 0.79576399 0.75718608 0.75189107\n",
      " 0.77344932 0.79009077 0.77874433 0.78933434 0.77874433 0.80900151\n",
      " 0.86270802 0.86913767 0.85665658 0.88464448 0.88237519 0.84909228\n",
      " 0.86195159 0.85022693 0.79992436 0.82488654 0.82829047 0.79992436\n",
      " 0.83358548 0.8392587  0.84152799 0.86611195 0.87859304 0.89750378\n",
      " 0.87708018 0.897882   0.8827534  0.8623298  0.81807867 0.83245083\n",
      " 0.80030257 0.80975794 0.79462935 0.84795764 0.83850227 0.85741301\n",
      " 0.87972769 0.87934947 0.98108926 0.96633888 0.97541604 0.95612708\n",
      " 0.95347958 0.91187595 0.91717095 0.87178517 0.91717095 0.94326778\n",
      " 0.79236006 0.81543116 0.85287443 0.86913767 0.86187595 0.87110439\n",
      " 0.87503782 0.86739788 0.88184569 0.74661112 0.71661848 0.67436135\n",
      " 0.63182956 0.59335142 0.55983508 0.53099585 0.5061326  0.48439345\n",
      " 0.46491036 0.44689685 0.42971599 0.41291279]\n",
      "13 day output [[0.39621812]]\n",
      "14 day input [0.92360061 0.71104387 0.6785174  0.77231467 0.80559758 0.77193646\n",
      " 0.81580938 0.79198185 0.77420575 0.78025719 0.76437216 0.77080182\n",
      " 0.78555219 0.75189107 0.77685325 0.77723147 0.77534039 0.78555219\n",
      " 0.77723147 0.76399395 0.78479576 0.76739788 0.71028744 0.62594554\n",
      " 0.75794251 0.80295008 0.79576399 0.75718608 0.75189107 0.77344932\n",
      " 0.79009077 0.77874433 0.78933434 0.77874433 0.80900151 0.86270802\n",
      " 0.86913767 0.85665658 0.88464448 0.88237519 0.84909228 0.86195159\n",
      " 0.85022693 0.79992436 0.82488654 0.82829047 0.79992436 0.83358548\n",
      " 0.8392587  0.84152799 0.86611195 0.87859304 0.89750378 0.87708018\n",
      " 0.897882   0.8827534  0.8623298  0.81807867 0.83245083 0.80030257\n",
      " 0.80975794 0.79462935 0.84795764 0.83850227 0.85741301 0.87972769\n",
      " 0.87934947 0.98108926 0.96633888 0.97541604 0.95612708 0.95347958\n",
      " 0.91187595 0.91717095 0.87178517 0.91717095 0.94326778 0.79236006\n",
      " 0.81543116 0.85287443 0.86913767 0.86187595 0.87110439 0.87503782\n",
      " 0.86739788 0.88184569 0.74661112 0.71661848 0.67436135 0.63182956\n",
      " 0.59335142 0.55983508 0.53099585 0.5061326  0.48439345 0.46491036\n",
      " 0.44689685 0.42971599 0.41291279 0.39621812]\n",
      "14 day output [[0.37952927]]\n",
      "15 day input [0.71104387 0.6785174  0.77231467 0.80559758 0.77193646 0.81580938\n",
      " 0.79198185 0.77420575 0.78025719 0.76437216 0.77080182 0.78555219\n",
      " 0.75189107 0.77685325 0.77723147 0.77534039 0.78555219 0.77723147\n",
      " 0.76399395 0.78479576 0.76739788 0.71028744 0.62594554 0.75794251\n",
      " 0.80295008 0.79576399 0.75718608 0.75189107 0.77344932 0.79009077\n",
      " 0.77874433 0.78933434 0.77874433 0.80900151 0.86270802 0.86913767\n",
      " 0.85665658 0.88464448 0.88237519 0.84909228 0.86195159 0.85022693\n",
      " 0.79992436 0.82488654 0.82829047 0.79992436 0.83358548 0.8392587\n",
      " 0.84152799 0.86611195 0.87859304 0.89750378 0.87708018 0.897882\n",
      " 0.8827534  0.8623298  0.81807867 0.83245083 0.80030257 0.80975794\n",
      " 0.79462935 0.84795764 0.83850227 0.85741301 0.87972769 0.87934947\n",
      " 0.98108926 0.96633888 0.97541604 0.95612708 0.95347958 0.91187595\n",
      " 0.91717095 0.87178517 0.91717095 0.94326778 0.79236006 0.81543116\n",
      " 0.85287443 0.86913767 0.86187595 0.87110439 0.87503782 0.86739788\n",
      " 0.88184569 0.74661112 0.71661848 0.67436135 0.63182956 0.59335142\n",
      " 0.55983508 0.53099585 0.5061326  0.48439345 0.46491036 0.44689685\n",
      " 0.42971599 0.41291279 0.39621812 0.37952927]\n",
      "15 day output [[0.3628769]]\n",
      "16 day input [0.6785174  0.77231467 0.80559758 0.77193646 0.81580938 0.79198185\n",
      " 0.77420575 0.78025719 0.76437216 0.77080182 0.78555219 0.75189107\n",
      " 0.77685325 0.77723147 0.77534039 0.78555219 0.77723147 0.76399395\n",
      " 0.78479576 0.76739788 0.71028744 0.62594554 0.75794251 0.80295008\n",
      " 0.79576399 0.75718608 0.75189107 0.77344932 0.79009077 0.77874433\n",
      " 0.78933434 0.77874433 0.80900151 0.86270802 0.86913767 0.85665658\n",
      " 0.88464448 0.88237519 0.84909228 0.86195159 0.85022693 0.79992436\n",
      " 0.82488654 0.82829047 0.79992436 0.83358548 0.8392587  0.84152799\n",
      " 0.86611195 0.87859304 0.89750378 0.87708018 0.897882   0.8827534\n",
      " 0.8623298  0.81807867 0.83245083 0.80030257 0.80975794 0.79462935\n",
      " 0.84795764 0.83850227 0.85741301 0.87972769 0.87934947 0.98108926\n",
      " 0.96633888 0.97541604 0.95612708 0.95347958 0.91187595 0.91717095\n",
      " 0.87178517 0.91717095 0.94326778 0.79236006 0.81543116 0.85287443\n",
      " 0.86913767 0.86187595 0.87110439 0.87503782 0.86739788 0.88184569\n",
      " 0.74661112 0.71661848 0.67436135 0.63182956 0.59335142 0.55983508\n",
      " 0.53099585 0.5061326  0.48439345 0.46491036 0.44689685 0.42971599\n",
      " 0.41291279 0.39621812 0.37952927 0.36287689]\n"
     ]
    },
    {
     "name": "stdout",
     "output_type": "stream",
     "text": [
      "16 day output [[0.34638557]]\n",
      "17 day input [0.77231467 0.80559758 0.77193646 0.81580938 0.79198185 0.77420575\n",
      " 0.78025719 0.76437216 0.77080182 0.78555219 0.75189107 0.77685325\n",
      " 0.77723147 0.77534039 0.78555219 0.77723147 0.76399395 0.78479576\n",
      " 0.76739788 0.71028744 0.62594554 0.75794251 0.80295008 0.79576399\n",
      " 0.75718608 0.75189107 0.77344932 0.79009077 0.77874433 0.78933434\n",
      " 0.77874433 0.80900151 0.86270802 0.86913767 0.85665658 0.88464448\n",
      " 0.88237519 0.84909228 0.86195159 0.85022693 0.79992436 0.82488654\n",
      " 0.82829047 0.79992436 0.83358548 0.8392587  0.84152799 0.86611195\n",
      " 0.87859304 0.89750378 0.87708018 0.897882   0.8827534  0.8623298\n",
      " 0.81807867 0.83245083 0.80030257 0.80975794 0.79462935 0.84795764\n",
      " 0.83850227 0.85741301 0.87972769 0.87934947 0.98108926 0.96633888\n",
      " 0.97541604 0.95612708 0.95347958 0.91187595 0.91717095 0.87178517\n",
      " 0.91717095 0.94326778 0.79236006 0.81543116 0.85287443 0.86913767\n",
      " 0.86187595 0.87110439 0.87503782 0.86739788 0.88184569 0.74661112\n",
      " 0.71661848 0.67436135 0.63182956 0.59335142 0.55983508 0.53099585\n",
      " 0.5061326  0.48439345 0.46491036 0.44689685 0.42971599 0.41291279\n",
      " 0.39621812 0.37952927 0.36287689 0.34638557]\n",
      "17 day output [[0.33023298]]\n",
      "18 day input [0.80559758 0.77193646 0.81580938 0.79198185 0.77420575 0.78025719\n",
      " 0.76437216 0.77080182 0.78555219 0.75189107 0.77685325 0.77723147\n",
      " 0.77534039 0.78555219 0.77723147 0.76399395 0.78479576 0.76739788\n",
      " 0.71028744 0.62594554 0.75794251 0.80295008 0.79576399 0.75718608\n",
      " 0.75189107 0.77344932 0.79009077 0.77874433 0.78933434 0.77874433\n",
      " 0.80900151 0.86270802 0.86913767 0.85665658 0.88464448 0.88237519\n",
      " 0.84909228 0.86195159 0.85022693 0.79992436 0.82488654 0.82829047\n",
      " 0.79992436 0.83358548 0.8392587  0.84152799 0.86611195 0.87859304\n",
      " 0.89750378 0.87708018 0.897882   0.8827534  0.8623298  0.81807867\n",
      " 0.83245083 0.80030257 0.80975794 0.79462935 0.84795764 0.83850227\n",
      " 0.85741301 0.87972769 0.87934947 0.98108926 0.96633888 0.97541604\n",
      " 0.95612708 0.95347958 0.91187595 0.91717095 0.87178517 0.91717095\n",
      " 0.94326778 0.79236006 0.81543116 0.85287443 0.86913767 0.86187595\n",
      " 0.87110439 0.87503782 0.86739788 0.88184569 0.74661112 0.71661848\n",
      " 0.67436135 0.63182956 0.59335142 0.55983508 0.53099585 0.5061326\n",
      " 0.48439345 0.46491036 0.44689685 0.42971599 0.41291279 0.39621812\n",
      " 0.37952927 0.36287689 0.34638557 0.33023298]\n",
      "18 day output [[0.31461376]]\n",
      "19 day input [0.77193646 0.81580938 0.79198185 0.77420575 0.78025719 0.76437216\n",
      " 0.77080182 0.78555219 0.75189107 0.77685325 0.77723147 0.77534039\n",
      " 0.78555219 0.77723147 0.76399395 0.78479576 0.76739788 0.71028744\n",
      " 0.62594554 0.75794251 0.80295008 0.79576399 0.75718608 0.75189107\n",
      " 0.77344932 0.79009077 0.77874433 0.78933434 0.77874433 0.80900151\n",
      " 0.86270802 0.86913767 0.85665658 0.88464448 0.88237519 0.84909228\n",
      " 0.86195159 0.85022693 0.79992436 0.82488654 0.82829047 0.79992436\n",
      " 0.83358548 0.8392587  0.84152799 0.86611195 0.87859304 0.89750378\n",
      " 0.87708018 0.897882   0.8827534  0.8623298  0.81807867 0.83245083\n",
      " 0.80030257 0.80975794 0.79462935 0.84795764 0.83850227 0.85741301\n",
      " 0.87972769 0.87934947 0.98108926 0.96633888 0.97541604 0.95612708\n",
      " 0.95347958 0.91187595 0.91717095 0.87178517 0.91717095 0.94326778\n",
      " 0.79236006 0.81543116 0.85287443 0.86913767 0.86187595 0.87110439\n",
      " 0.87503782 0.86739788 0.88184569 0.74661112 0.71661848 0.67436135\n",
      " 0.63182956 0.59335142 0.55983508 0.53099585 0.5061326  0.48439345\n",
      " 0.46491036 0.44689685 0.42971599 0.41291279 0.39621812 0.37952927\n",
      " 0.36287689 0.34638557 0.33023298 0.31461376]\n",
      "19 day output [[0.2997107]]\n",
      "20 day input [0.81580938 0.79198185 0.77420575 0.78025719 0.76437216 0.77080182\n",
      " 0.78555219 0.75189107 0.77685325 0.77723147 0.77534039 0.78555219\n",
      " 0.77723147 0.76399395 0.78479576 0.76739788 0.71028744 0.62594554\n",
      " 0.75794251 0.80295008 0.79576399 0.75718608 0.75189107 0.77344932\n",
      " 0.79009077 0.77874433 0.78933434 0.77874433 0.80900151 0.86270802\n",
      " 0.86913767 0.85665658 0.88464448 0.88237519 0.84909228 0.86195159\n",
      " 0.85022693 0.79992436 0.82488654 0.82829047 0.79992436 0.83358548\n",
      " 0.8392587  0.84152799 0.86611195 0.87859304 0.89750378 0.87708018\n",
      " 0.897882   0.8827534  0.8623298  0.81807867 0.83245083 0.80030257\n",
      " 0.80975794 0.79462935 0.84795764 0.83850227 0.85741301 0.87972769\n",
      " 0.87934947 0.98108926 0.96633888 0.97541604 0.95612708 0.95347958\n",
      " 0.91187595 0.91717095 0.87178517 0.91717095 0.94326778 0.79236006\n",
      " 0.81543116 0.85287443 0.86913767 0.86187595 0.87110439 0.87503782\n",
      " 0.86739788 0.88184569 0.74661112 0.71661848 0.67436135 0.63182956\n",
      " 0.59335142 0.55983508 0.53099585 0.5061326  0.48439345 0.46491036\n",
      " 0.44689685 0.42971599 0.41291279 0.39621812 0.37952927 0.36287689\n",
      " 0.34638557 0.33023298 0.31461376 0.29971069]\n",
      "20 day output [[0.28567272]]\n",
      "21 day input [0.79198185 0.77420575 0.78025719 0.76437216 0.77080182 0.78555219\n",
      " 0.75189107 0.77685325 0.77723147 0.77534039 0.78555219 0.77723147\n",
      " 0.76399395 0.78479576 0.76739788 0.71028744 0.62594554 0.75794251\n",
      " 0.80295008 0.79576399 0.75718608 0.75189107 0.77344932 0.79009077\n",
      " 0.77874433 0.78933434 0.77874433 0.80900151 0.86270802 0.86913767\n",
      " 0.85665658 0.88464448 0.88237519 0.84909228 0.86195159 0.85022693\n",
      " 0.79992436 0.82488654 0.82829047 0.79992436 0.83358548 0.8392587\n",
      " 0.84152799 0.86611195 0.87859304 0.89750378 0.87708018 0.897882\n",
      " 0.8827534  0.8623298  0.81807867 0.83245083 0.80030257 0.80975794\n",
      " 0.79462935 0.84795764 0.83850227 0.85741301 0.87972769 0.87934947\n",
      " 0.98108926 0.96633888 0.97541604 0.95612708 0.95347958 0.91187595\n",
      " 0.91717095 0.87178517 0.91717095 0.94326778 0.79236006 0.81543116\n",
      " 0.85287443 0.86913767 0.86187595 0.87110439 0.87503782 0.86739788\n",
      " 0.88184569 0.74661112 0.71661848 0.67436135 0.63182956 0.59335142\n",
      " 0.55983508 0.53099585 0.5061326  0.48439345 0.46491036 0.44689685\n",
      " 0.42971599 0.41291279 0.39621812 0.37952927 0.36287689 0.34638557\n",
      " 0.33023298 0.31461376 0.29971069 0.28567272]\n",
      "21 day output [[0.27260333]]\n",
      "22 day input [0.77420575 0.78025719 0.76437216 0.77080182 0.78555219 0.75189107\n",
      " 0.77685325 0.77723147 0.77534039 0.78555219 0.77723147 0.76399395\n",
      " 0.78479576 0.76739788 0.71028744 0.62594554 0.75794251 0.80295008\n",
      " 0.79576399 0.75718608 0.75189107 0.77344932 0.79009077 0.77874433\n",
      " 0.78933434 0.77874433 0.80900151 0.86270802 0.86913767 0.85665658\n",
      " 0.88464448 0.88237519 0.84909228 0.86195159 0.85022693 0.79992436\n",
      " 0.82488654 0.82829047 0.79992436 0.83358548 0.8392587  0.84152799\n",
      " 0.86611195 0.87859304 0.89750378 0.87708018 0.897882   0.8827534\n",
      " 0.8623298  0.81807867 0.83245083 0.80030257 0.80975794 0.79462935\n",
      " 0.84795764 0.83850227 0.85741301 0.87972769 0.87934947 0.98108926\n",
      " 0.96633888 0.97541604 0.95612708 0.95347958 0.91187595 0.91717095\n",
      " 0.87178517 0.91717095 0.94326778 0.79236006 0.81543116 0.85287443\n",
      " 0.86913767 0.86187595 0.87110439 0.87503782 0.86739788 0.88184569\n",
      " 0.74661112 0.71661848 0.67436135 0.63182956 0.59335142 0.55983508\n",
      " 0.53099585 0.5061326  0.48439345 0.46491036 0.44689685 0.42971599\n",
      " 0.41291279 0.39621812 0.37952927 0.36287689 0.34638557 0.33023298\n",
      " 0.31461376 0.29971069 0.28567272 0.27260333]\n",
      "22 day output [[0.260556]]\n",
      "23 day input [0.78025719 0.76437216 0.77080182 0.78555219 0.75189107 0.77685325\n",
      " 0.77723147 0.77534039 0.78555219 0.77723147 0.76399395 0.78479576\n",
      " 0.76739788 0.71028744 0.62594554 0.75794251 0.80295008 0.79576399\n",
      " 0.75718608 0.75189107 0.77344932 0.79009077 0.77874433 0.78933434\n",
      " 0.77874433 0.80900151 0.86270802 0.86913767 0.85665658 0.88464448\n",
      " 0.88237519 0.84909228 0.86195159 0.85022693 0.79992436 0.82488654\n",
      " 0.82829047 0.79992436 0.83358548 0.8392587  0.84152799 0.86611195\n",
      " 0.87859304 0.89750378 0.87708018 0.897882   0.8827534  0.8623298\n",
      " 0.81807867 0.83245083 0.80030257 0.80975794 0.79462935 0.84795764\n",
      " 0.83850227 0.85741301 0.87972769 0.87934947 0.98108926 0.96633888\n",
      " 0.97541604 0.95612708 0.95347958 0.91187595 0.91717095 0.87178517\n",
      " 0.91717095 0.94326778 0.79236006 0.81543116 0.85287443 0.86913767\n",
      " 0.86187595 0.87110439 0.87503782 0.86739788 0.88184569 0.74661112\n",
      " 0.71661848 0.67436135 0.63182956 0.59335142 0.55983508 0.53099585\n",
      " 0.5061326  0.48439345 0.46491036 0.44689685 0.42971599 0.41291279\n",
      " 0.39621812 0.37952927 0.36287689 0.34638557 0.33023298 0.31461376\n",
      " 0.29971069 0.28567272 0.27260333 0.26055601]\n",
      "23 day output [[0.24953613]]\n",
      "24 day input [0.76437216 0.77080182 0.78555219 0.75189107 0.77685325 0.77723147\n",
      " 0.77534039 0.78555219 0.77723147 0.76399395 0.78479576 0.76739788\n",
      " 0.71028744 0.62594554 0.75794251 0.80295008 0.79576399 0.75718608\n",
      " 0.75189107 0.77344932 0.79009077 0.77874433 0.78933434 0.77874433\n",
      " 0.80900151 0.86270802 0.86913767 0.85665658 0.88464448 0.88237519\n",
      " 0.84909228 0.86195159 0.85022693 0.79992436 0.82488654 0.82829047\n",
      " 0.79992436 0.83358548 0.8392587  0.84152799 0.86611195 0.87859304\n",
      " 0.89750378 0.87708018 0.897882   0.8827534  0.8623298  0.81807867\n",
      " 0.83245083 0.80030257 0.80975794 0.79462935 0.84795764 0.83850227\n",
      " 0.85741301 0.87972769 0.87934947 0.98108926 0.96633888 0.97541604\n",
      " 0.95612708 0.95347958 0.91187595 0.91717095 0.87178517 0.91717095\n",
      " 0.94326778 0.79236006 0.81543116 0.85287443 0.86913767 0.86187595\n",
      " 0.87110439 0.87503782 0.86739788 0.88184569 0.74661112 0.71661848\n",
      " 0.67436135 0.63182956 0.59335142 0.55983508 0.53099585 0.5061326\n",
      " 0.48439345 0.46491036 0.44689685 0.42971599 0.41291279 0.39621812\n",
      " 0.37952927 0.36287689 0.34638557 0.33023298 0.31461376 0.29971069\n",
      " 0.28567272 0.27260333 0.26055601 0.24953613]\n",
      "24 day output [[0.23950875]]\n",
      "25 day input [0.77080182 0.78555219 0.75189107 0.77685325 0.77723147 0.77534039\n",
      " 0.78555219 0.77723147 0.76399395 0.78479576 0.76739788 0.71028744\n",
      " 0.62594554 0.75794251 0.80295008 0.79576399 0.75718608 0.75189107\n",
      " 0.77344932 0.79009077 0.77874433 0.78933434 0.77874433 0.80900151\n",
      " 0.86270802 0.86913767 0.85665658 0.88464448 0.88237519 0.84909228\n",
      " 0.86195159 0.85022693 0.79992436 0.82488654 0.82829047 0.79992436\n",
      " 0.83358548 0.8392587  0.84152799 0.86611195 0.87859304 0.89750378\n",
      " 0.87708018 0.897882   0.8827534  0.8623298  0.81807867 0.83245083\n",
      " 0.80030257 0.80975794 0.79462935 0.84795764 0.83850227 0.85741301\n",
      " 0.87972769 0.87934947 0.98108926 0.96633888 0.97541604 0.95612708\n",
      " 0.95347958 0.91187595 0.91717095 0.87178517 0.91717095 0.94326778\n",
      " 0.79236006 0.81543116 0.85287443 0.86913767 0.86187595 0.87110439\n",
      " 0.87503782 0.86739788 0.88184569 0.74661112 0.71661848 0.67436135\n",
      " 0.63182956 0.59335142 0.55983508 0.53099585 0.5061326  0.48439345\n",
      " 0.46491036 0.44689685 0.42971599 0.41291279 0.39621812 0.37952927\n",
      " 0.36287689 0.34638557 0.33023298 0.31461376 0.29971069 0.28567272\n",
      " 0.27260333 0.26055601 0.24953613 0.23950875]\n"
     ]
    },
    {
     "name": "stdout",
     "output_type": "stream",
     "text": [
      "25 day output [[0.23040845]]\n",
      "26 day input [0.78555219 0.75189107 0.77685325 0.77723147 0.77534039 0.78555219\n",
      " 0.77723147 0.76399395 0.78479576 0.76739788 0.71028744 0.62594554\n",
      " 0.75794251 0.80295008 0.79576399 0.75718608 0.75189107 0.77344932\n",
      " 0.79009077 0.77874433 0.78933434 0.77874433 0.80900151 0.86270802\n",
      " 0.86913767 0.85665658 0.88464448 0.88237519 0.84909228 0.86195159\n",
      " 0.85022693 0.79992436 0.82488654 0.82829047 0.79992436 0.83358548\n",
      " 0.8392587  0.84152799 0.86611195 0.87859304 0.89750378 0.87708018\n",
      " 0.897882   0.8827534  0.8623298  0.81807867 0.83245083 0.80030257\n",
      " 0.80975794 0.79462935 0.84795764 0.83850227 0.85741301 0.87972769\n",
      " 0.87934947 0.98108926 0.96633888 0.97541604 0.95612708 0.95347958\n",
      " 0.91187595 0.91717095 0.87178517 0.91717095 0.94326778 0.79236006\n",
      " 0.81543116 0.85287443 0.86913767 0.86187595 0.87110439 0.87503782\n",
      " 0.86739788 0.88184569 0.74661112 0.71661848 0.67436135 0.63182956\n",
      " 0.59335142 0.55983508 0.53099585 0.5061326  0.48439345 0.46491036\n",
      " 0.44689685 0.42971599 0.41291279 0.39621812 0.37952927 0.36287689\n",
      " 0.34638557 0.33023298 0.31461376 0.29971069 0.28567272 0.27260333\n",
      " 0.26055601 0.24953613 0.23950875 0.23040845]\n",
      "26 day output [[0.2221503]]\n",
      "27 day input [0.75189107 0.77685325 0.77723147 0.77534039 0.78555219 0.77723147\n",
      " 0.76399395 0.78479576 0.76739788 0.71028744 0.62594554 0.75794251\n",
      " 0.80295008 0.79576399 0.75718608 0.75189107 0.77344932 0.79009077\n",
      " 0.77874433 0.78933434 0.77874433 0.80900151 0.86270802 0.86913767\n",
      " 0.85665658 0.88464448 0.88237519 0.84909228 0.86195159 0.85022693\n",
      " 0.79992436 0.82488654 0.82829047 0.79992436 0.83358548 0.8392587\n",
      " 0.84152799 0.86611195 0.87859304 0.89750378 0.87708018 0.897882\n",
      " 0.8827534  0.8623298  0.81807867 0.83245083 0.80030257 0.80975794\n",
      " 0.79462935 0.84795764 0.83850227 0.85741301 0.87972769 0.87934947\n",
      " 0.98108926 0.96633888 0.97541604 0.95612708 0.95347958 0.91187595\n",
      " 0.91717095 0.87178517 0.91717095 0.94326778 0.79236006 0.81543116\n",
      " 0.85287443 0.86913767 0.86187595 0.87110439 0.87503782 0.86739788\n",
      " 0.88184569 0.74661112 0.71661848 0.67436135 0.63182956 0.59335142\n",
      " 0.55983508 0.53099585 0.5061326  0.48439345 0.46491036 0.44689685\n",
      " 0.42971599 0.41291279 0.39621812 0.37952927 0.36287689 0.34638557\n",
      " 0.33023298 0.31461376 0.29971069 0.28567272 0.27260333 0.26055601\n",
      " 0.24953613 0.23950875 0.23040845 0.2221503 ]\n",
      "27 day output [[0.21464057]]\n",
      "28 day input [0.77685325 0.77723147 0.77534039 0.78555219 0.77723147 0.76399395\n",
      " 0.78479576 0.76739788 0.71028744 0.62594554 0.75794251 0.80295008\n",
      " 0.79576399 0.75718608 0.75189107 0.77344932 0.79009077 0.77874433\n",
      " 0.78933434 0.77874433 0.80900151 0.86270802 0.86913767 0.85665658\n",
      " 0.88464448 0.88237519 0.84909228 0.86195159 0.85022693 0.79992436\n",
      " 0.82488654 0.82829047 0.79992436 0.83358548 0.8392587  0.84152799\n",
      " 0.86611195 0.87859304 0.89750378 0.87708018 0.897882   0.8827534\n",
      " 0.8623298  0.81807867 0.83245083 0.80030257 0.80975794 0.79462935\n",
      " 0.84795764 0.83850227 0.85741301 0.87972769 0.87934947 0.98108926\n",
      " 0.96633888 0.97541604 0.95612708 0.95347958 0.91187595 0.91717095\n",
      " 0.87178517 0.91717095 0.94326778 0.79236006 0.81543116 0.85287443\n",
      " 0.86913767 0.86187595 0.87110439 0.87503782 0.86739788 0.88184569\n",
      " 0.74661112 0.71661848 0.67436135 0.63182956 0.59335142 0.55983508\n",
      " 0.53099585 0.5061326  0.48439345 0.46491036 0.44689685 0.42971599\n",
      " 0.41291279 0.39621812 0.37952927 0.36287689 0.34638557 0.33023298\n",
      " 0.31461376 0.29971069 0.28567272 0.27260333 0.26055601 0.24953613\n",
      " 0.23950875 0.23040845 0.2221503  0.21464057]\n",
      "28 day output [[0.20778604]]\n",
      "29 day input [0.77723147 0.77534039 0.78555219 0.77723147 0.76399395 0.78479576\n",
      " 0.76739788 0.71028744 0.62594554 0.75794251 0.80295008 0.79576399\n",
      " 0.75718608 0.75189107 0.77344932 0.79009077 0.77874433 0.78933434\n",
      " 0.77874433 0.80900151 0.86270802 0.86913767 0.85665658 0.88464448\n",
      " 0.88237519 0.84909228 0.86195159 0.85022693 0.79992436 0.82488654\n",
      " 0.82829047 0.79992436 0.83358548 0.8392587  0.84152799 0.86611195\n",
      " 0.87859304 0.89750378 0.87708018 0.897882   0.8827534  0.8623298\n",
      " 0.81807867 0.83245083 0.80030257 0.80975794 0.79462935 0.84795764\n",
      " 0.83850227 0.85741301 0.87972769 0.87934947 0.98108926 0.96633888\n",
      " 0.97541604 0.95612708 0.95347958 0.91187595 0.91717095 0.87178517\n",
      " 0.91717095 0.94326778 0.79236006 0.81543116 0.85287443 0.86913767\n",
      " 0.86187595 0.87110439 0.87503782 0.86739788 0.88184569 0.74661112\n",
      " 0.71661848 0.67436135 0.63182956 0.59335142 0.55983508 0.53099585\n",
      " 0.5061326  0.48439345 0.46491036 0.44689685 0.42971599 0.41291279\n",
      " 0.39621812 0.37952927 0.36287689 0.34638557 0.33023298 0.31461376\n",
      " 0.29971069 0.28567272 0.27260333 0.26055601 0.24953613 0.23950875\n",
      " 0.23040845 0.2221503  0.21464057 0.20778604]\n",
      "29 day output [[0.2015003]]\n",
      "[[0.7466111183166504], [0.7166184782981873], [0.6743613481521606], [0.631829559803009], [0.593351423740387], [0.5598350763320923], [0.5309958457946777], [0.5061326026916504], [0.484393447637558], [0.4649103581905365], [0.44689685106277466], [0.42971599102020264], [0.4129127860069275], [0.39621812105178833], [0.37952926754951477], [0.36287689208984375], [0.34638556838035583], [0.33023297786712646], [0.3146137595176697], [0.2997106909751892], [0.28567272424697876], [0.2726033329963684], [0.26055601239204407], [0.24953612685203552], [0.2395087480545044], [0.2304084450006485], [0.2221502959728241], [0.2146405726671219], [0.20778603851795197], [0.2015002965927124]]\n"
     ]
    }
   ],
   "source": [
    "from numpy import array\n",
    "\n",
    "lst_output=[]\n",
    "n_steps=100\n",
    "i=0\n",
    "while(i<30):\n",
    "    \n",
    "    if(len(temp_input)>100):\n",
    "        #print(temp_input)\n",
    "        x_input=np.array(temp_input[1:])\n",
    "        print(\"{} day input {}\".format(i,x_input))\n",
    "        x_input=x_input.reshape(1,-1)\n",
    "        x_input = x_input.reshape((1, n_steps, 1))\n",
    "        #print(x_input)\n",
    "        yhat = model.predict(x_input, verbose=0)\n",
    "        print(\"{} day output {}\".format(i,yhat))\n",
    "        temp_input.extend(yhat[0].tolist())\n",
    "        temp_input=temp_input[1:]\n",
    "        #print(temp_input)\n",
    "        lst_output.extend(yhat.tolist())\n",
    "        i=i+1\n",
    "    else:\n",
    "        x_input = x_input.reshape((1, n_steps,1))\n",
    "        yhat = model.predict(x_input, verbose=0)\n",
    "        print(yhat[0])\n",
    "        temp_input.extend(yhat[0].tolist())\n",
    "        print(len(temp_input))\n",
    "        lst_output.extend(yhat.tolist())\n",
    "        i=i+1\n",
    "    \n",
    "\n",
    "print(lst_output)"
   ]
  },
  {
   "cell_type": "code",
   "execution_count": 29,
   "id": "0c680ffb",
   "metadata": {},
   "outputs": [],
   "source": [
    "day_new=np.arange(1,101)\n",
    "day_pred=np.arange(101,131)"
   ]
  },
  {
   "cell_type": "code",
   "execution_count": 30,
   "id": "efc09cf9",
   "metadata": {},
   "outputs": [
    {
     "data": {
      "text/plain": [
       "1598"
      ]
     },
     "execution_count": 30,
     "metadata": {},
     "output_type": "execute_result"
    }
   ],
   "source": [
    "len(df1)"
   ]
  },
  {
   "cell_type": "code",
   "execution_count": 31,
   "id": "8fbdf5f1",
   "metadata": {},
   "outputs": [
    {
     "data": {
      "text/plain": [
       "[<matplotlib.lines.Line2D at 0x27885b1fdd0>]"
      ]
     },
     "execution_count": 31,
     "metadata": {},
     "output_type": "execute_result"
    },
    {
     "data": {
      "image/png": "[encoded data removed]",
      "text/plain": [
       "<Figure size 640x480 with 1 Axes>"
      ]
     },
     "metadata": {},
     "output_type": "display_data"
    }
   ],
   "source": [
    "plt.plot(day_new,scaler.inverse_transform(df1[1498:]))\n",
    "plt.plot(day_pred,scaler.inverse_transform(lst_output))"
   ]
  },
  {
   "cell_type": "code",
   "execution_count": 32,
   "id": "4599dd90",
   "metadata": {},
   "outputs": [
    {
     "data": {
      "text/plain": [
       "[<matplotlib.lines.Line2D at 0x27885ad4590>]"
      ]
     },
     "execution_count": 32,
     "metadata": {},
     "output_type": "execute_result"
    },
    {
     "data": {
      "image/png": "[encoded data removed]",
      "text/plain": [
       "<Figure size 640x480 with 1 Axes>"
      ]
     },
     "metadata": {},
     "output_type": "display_data"
    }
   ],
   "source": [
    "df3=df1.tolist()\n",
    "df3.extend(lst_output)\n",
    "plt.plot(df3[1200:])"
   ]
  },
  {
   "cell_type": "code",
   "execution_count": null,
   "id": "51b93c21",
   "metadata": {},
   "outputs": [],
   "source": []
  }
 ],
 "metadata": {
  "kernelspec": {
   "display_name": "Python 3 (ipykernel)",
   "language": "python",
   "name": "python3"
  },
  "language_info": {
   "codemirror_mode": {
    "name": "ipython",
    "version": 3
   },
   "file_extension": ".py",
   "mimetype": "text/x-python",
   "name": "python",
   "nbconvert_exporter": "python",
   "pygments_lexer": "ipython3",
   "version": "3.11.5"
  }
 },
 "nbformat": 4,
 "nbformat_minor": 5
}
